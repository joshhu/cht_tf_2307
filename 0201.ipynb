{
  "cells": [
    {
      "attachments": {},
      "cell_type": "markdown",
      "metadata": {
        "id": "v_LYZbTZEB_D"
      },
      "source": [
        "#第2章：神經網路的數學概念"
      ]
    },
    {
      "attachments": {},
      "cell_type": "markdown",
      "metadata": {
        "id": "zvGbg3qvEB_F"
      },
      "source": [
        "## 0201：MNIST手寫辨識"
      ]
    },
    {
      "attachments": {},
      "cell_type": "markdown",
      "metadata": {
        "id": "RKeMgtVwEB_I"
      },
      "source": [
        "#### 在Keras中載入MNIST資料集"
      ]
    },
    {
      "cell_type": "code",
      "execution_count": 1,
      "metadata": {
        "colab": {
          "base_uri": "https://localhost:8080/"
        },
        "id": "VAVdNtv4EB_J",
        "outputId": "784baac9-5c00-4430-d4c3-39841f0614f8"
      },
      "outputs": [
        {
          "ename": "ModuleNotFoundError",
          "evalue": "No module named 'tensorflow'",
          "output_type": "error",
          "traceback": [
            "\u001b[1;31m---------------------------------------------------------------------------\u001b[0m",
            "\u001b[1;31mModuleNotFoundError\u001b[0m                       Traceback (most recent call last)",
            "\u001b[1;32mc:\\Users\\joshhu\\Documents\\演講及課程\\20230706年中華電信Tensorflow\\Code\\0201.ipynb 儲存格 4\u001b[0m in \u001b[0;36m<cell line: 1>\u001b[1;34m()\u001b[0m\n\u001b[1;32m----> <a href='vscode-notebook-cell:/c%3A/Users/joshhu/Documents/%E6%BC%94%E8%AC%9B%E5%8F%8A%E8%AA%B2%E7%A8%8B/20230706%E5%B9%B4%E4%B8%AD%E8%8F%AF%E9%9B%BB%E4%BF%A1Tensorflow/Code/0201.ipynb#W3sZmlsZQ%3D%3D?line=0'>1</a>\u001b[0m \u001b[39mfrom\u001b[39;00m \u001b[39mtensorflow\u001b[39;00m \u001b[39mimport\u001b[39;00m keras\n\u001b[0;32m      <a href='vscode-notebook-cell:/c%3A/Users/joshhu/Documents/%E6%BC%94%E8%AC%9B%E5%8F%8A%E8%AA%B2%E7%A8%8B/20230706%E5%B9%B4%E4%B8%AD%E8%8F%AF%E9%9B%BB%E4%BF%A1Tensorflow/Code/0201.ipynb#W3sZmlsZQ%3D%3D?line=1'>2</a>\u001b[0m \u001b[39mfrom\u001b[39;00m \u001b[39mkeras\u001b[39;00m\u001b[39m.\u001b[39;00m\u001b[39mdatasets\u001b[39;00m \u001b[39mimport\u001b[39;00m mnist\n\u001b[0;32m      <a href='vscode-notebook-cell:/c%3A/Users/joshhu/Documents/%E6%BC%94%E8%AC%9B%E5%8F%8A%E8%AA%B2%E7%A8%8B/20230706%E5%B9%B4%E4%B8%AD%E8%8F%AF%E9%9B%BB%E4%BF%A1Tensorflow/Code/0201.ipynb#W3sZmlsZQ%3D%3D?line=3'>4</a>\u001b[0m (train_images, train_labels), (test_images, test_labels) \u001b[39m=\u001b[39m mnist\u001b[39m.\u001b[39mload_data()\n",
            "\u001b[1;31mModuleNotFoundError\u001b[0m: No module named 'tensorflow'"
          ]
        }
      ],
      "source": [
        "from tensorflow import keras\n",
        "from keras.datasets import mnist\n",
        "\n",
        "(train_images, train_labels), (test_images, test_labels) = mnist.load_data()"
      ]
    },
    {
      "attachments": {},
      "cell_type": "markdown",
      "metadata": {},
      "source": [
        "#### 查看資料集的結構及資料大小"
      ]
    },
    {
      "cell_type": "code",
      "execution_count": null,
      "metadata": {
        "colab": {
          "base_uri": "https://localhost:8080/"
        },
        "id": "jG3Jss-jEB_K",
        "outputId": "68ed553a-1461-4354-8e1c-b2908b130943"
      },
      "outputs": [],
      "source": [
        "train_images.shape"
      ]
    },
    {
      "cell_type": "code",
      "execution_count": null,
      "metadata": {
        "colab": {
          "base_uri": "https://localhost:8080/"
        },
        "id": "1gEDp-f-EB_L",
        "outputId": "c031f623-82ce-4cd9-e723-00c3b3722951"
      },
      "outputs": [],
      "source": [
        "len(train_labels)"
      ]
    },
    {
      "cell_type": "code",
      "execution_count": null,
      "metadata": {
        "colab": {
          "base_uri": "https://localhost:8080/"
        },
        "id": "rluGYZx5EB_M",
        "outputId": "0a19a7a7-d526-4c04-ce84-2119fa4163d2"
      },
      "outputs": [],
      "source": [
        "train_labels"
      ]
    },
    {
      "cell_type": "code",
      "execution_count": null,
      "metadata": {},
      "outputs": [],
      "source": [
        "from matplotlib import pyplot as plt\n",
        "\n",
        "plt.imshow(train_images[0], cmap='gray')\n",
        "print(train_labels[0])"
      ]
    },
    {
      "cell_type": "code",
      "execution_count": null,
      "metadata": {
        "colab": {
          "base_uri": "https://localhost:8080/"
        },
        "id": "5spGyWk1EB_M",
        "outputId": "fe25e693-ff31-4d2f-9886-3628182e6cfa"
      },
      "outputs": [],
      "source": [
        "test_images.shape"
      ]
    },
    {
      "cell_type": "code",
      "execution_count": null,
      "metadata": {
        "colab": {
          "base_uri": "https://localhost:8080/"
        },
        "id": "mqt-3Gz1EB_O",
        "outputId": "7fbadfd4-883e-40b2-cbac-fcbfb762e676"
      },
      "outputs": [],
      "source": [
        "len(test_labels)"
      ]
    },
    {
      "cell_type": "code",
      "execution_count": null,
      "metadata": {
        "colab": {
          "base_uri": "https://localhost:8080/"
        },
        "id": "PQQ9DTdeEB_P",
        "outputId": "60a5100c-1c89-4049-f5f6-eb1e66eebdbb"
      },
      "outputs": [],
      "source": [
        "test_labels"
      ]
    },
    {
      "attachments": {},
      "cell_type": "markdown",
      "metadata": {},
      "source": [
        "#### 神經網路架構"
      ]
    },
    {
      "cell_type": "code",
      "execution_count": null,
      "metadata": {
        "id": "PSsbL5UrEB_Q"
      },
      "outputs": [],
      "source": [
        "from tensorflow import keras\n",
        "from tensorflow.keras import layers\n",
        "model = keras.Sequential([\n",
        "    layers.Dense(512, activation=\"relu\"),\n",
        "    layers.Dense(10, activation=\"softmax\")\n",
        "])"
      ]
    },
    {
      "attachments": {},
      "cell_type": "markdown",
      "metadata": {
        "id": "tN9Xwr5uEB_S"
      },
      "source": [
        "#### 編譯步驟"
      ]
    },
    {
      "cell_type": "code",
      "execution_count": null,
      "metadata": {
        "id": "-ddvy6cwEB_S"
      },
      "outputs": [],
      "source": [
        "model.compile(optimizer=\"rmsprop\",\n",
        "       loss=\"sparse_categorical_crossentropy\",\n",
        "       metrics=[\"accuracy\"])"
      ]
    },
    {
      "attachments": {},
      "cell_type": "markdown",
      "metadata": {
        "id": "TnsJ2RQPEB_T"
      },
      "source": [
        "#### 準備圖片資料"
      ]
    },
    {
      "cell_type": "code",
      "execution_count": null,
      "metadata": {
        "id": "FoajpWq2EB_T"
      },
      "outputs": [],
      "source": [
        "train_images = train_images.reshape((60000, 28 * 28))\n",
        "train_images = train_images.astype(\"float32\") / 255\n",
        "test_images = test_images.reshape((10000, 28 * 28))\n",
        "test_images = test_images.astype(\"float32\") / 255"
      ]
    },
    {
      "cell_type": "code",
      "execution_count": null,
      "metadata": {},
      "outputs": [],
      "source": [
        "model.build(input_shape=(None, 28 * 28))\n",
        "model.summary()"
      ]
    },
    {
      "attachments": {},
      "cell_type": "markdown",
      "metadata": {
        "id": "EoG1sSCoEB_U"
      },
      "source": [
        "#### 訓練神經網路模型"
      ]
    },
    {
      "cell_type": "code",
      "execution_count": null,
      "metadata": {
        "colab": {
          "base_uri": "https://localhost:8080/"
        },
        "id": "5GxTtWKFEB_U",
        "outputId": "8f94cee9-72a5-4bd7-b581-5919b91bfe24"
      },
      "outputs": [],
      "source": [
        "model.fit(train_images, train_labels, epochs=5, batch_size=128)"
      ]
    },
    {
      "attachments": {},
      "cell_type": "markdown",
      "metadata": {
        "id": "XA3Scc2DEB_U"
      },
      "source": [
        "#### 使用模型來進行預測"
      ]
    },
    {
      "cell_type": "code",
      "execution_count": null,
      "metadata": {
        "id": "SRGVDN0sEB_V"
      },
      "outputs": [],
      "source": [
        "test_digits = test_images[0:10]\n",
        "predictions = model.predict(test_digits)\n",
        "predictions[0]"
      ]
    },
    {
      "cell_type": "code",
      "execution_count": null,
      "metadata": {
        "id": "iOiwghFBEB_W"
      },
      "outputs": [],
      "source": [
        "print(predictions[0].argmax())\n",
        "plt.imshow(test_images[0].reshape(28, 28), cmap='gray')"
      ]
    },
    {
      "cell_type": "code",
      "execution_count": null,
      "metadata": {
        "id": "PTJnEcwzEB_W"
      },
      "outputs": [],
      "source": [
        "predictions[0][7]"
      ]
    },
    {
      "cell_type": "code",
      "execution_count": null,
      "metadata": {
        "id": "y-RuAsvCEB_X"
      },
      "outputs": [],
      "source": [
        "test_labels[0]"
      ]
    },
    {
      "attachments": {},
      "cell_type": "markdown",
      "metadata": {
        "id": "XG9D28AREB_X"
      },
      "source": [
        "####  評估模型在測試集上的表現"
      ]
    },
    {
      "cell_type": "code",
      "execution_count": null,
      "metadata": {
        "id": "xXTXW0aMEB_X"
      },
      "outputs": [],
      "source": [
        "test_loss, test_acc = model.evaluate(test_images, test_labels)\n",
        "print(f\"test_acc: {test_acc}\")"
      ]
    }
  ],
  "metadata": {
    "colab": {
      "collapsed_sections": [],
      "name": "F2379_CH02",
      "provenance": [],
      "toc_visible": true
    },
    "kernelspec": {
      "display_name": "Python 3.10.8 ('tf2')",
      "language": "python",
      "name": "python3"
    },
    "language_info": {
      "codemirror_mode": {
        "name": "ipython",
        "version": 3
      },
      "file_extension": ".py",
      "mimetype": "text/x-python",
      "name": "python",
      "nbconvert_exporter": "python",
      "pygments_lexer": "ipython3",
      "version": "3.8.13"
    },
    "vscode": {
      "interpreter": {
        "hash": "ef8ab87b9b534aeac9d3b69b806a42a5bb2ddd0e87978ed2609b10fbe8a47363"
      }
    }
  },
  "nbformat": 4,
  "nbformat_minor": 0
}

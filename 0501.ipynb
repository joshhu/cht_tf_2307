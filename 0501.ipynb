{
 "cells": [
  {
   "cell_type": "markdown",
   "metadata": {},
   "source": [
    "### 載入套件"
   ]
  },
  {
   "cell_type": "code",
   "execution_count": 29,
   "metadata": {},
   "outputs": [],
   "source": [
    "import numpy as np\n",
    "from tensorflow import keras\n",
    "from tensorflow.keras import layers\n",
    "import tensorflow as tf\n",
    "# from tensorflow.keras.datasets import cifar10"
   ]
  },
  {
   "cell_type": "code",
   "execution_count": 30,
   "metadata": {},
   "outputs": [
    {
     "name": "stdout",
     "output_type": "stream",
     "text": [
      "2.9.0\n",
      "[PhysicalDevice(name='/physical_device:GPU:0', device_type='GPU')]\n"
     ]
    }
   ],
   "source": [
    "print(tf.__version__)\n",
    "print(tf.config.list_physical_devices('GPU'))\n"
   ]
  },
  {
   "cell_type": "markdown",
   "metadata": {},
   "source": [
    "### 準備資料"
   ]
  },
  {
   "cell_type": "code",
   "execution_count": 31,
   "metadata": {},
   "outputs": [
    {
     "name": "stdout",
     "output_type": "stream",
     "text": [
      "x_train shape: (60000, 28, 28)\n",
      "60000 train samples\n",
      "10000 test samples\n"
     ]
    }
   ],
   "source": [
    "num_classes = 10\n",
    "input_shape = (28, 28, 1)\n",
    "# input_shape = (32, 32, 3)\n",
    "\n",
    "\n",
    "# Load the data and split it between train and test sets\n",
    "(x_train, y_train), (x_test, y_test) = keras.datasets.mnist.load_data()\n",
    "# (x_train, y_train), (x_test, y_test) = cifar10.load_data()\n",
    "\n",
    "# Scale images to the [0, 1] range\n",
    "x_train = x_train.astype(\"float32\") / 255\n",
    "x_test = x_test.astype(\"float32\") / 255\n",
    "# Make sure images have shape (28, 28, 1)\n",
    "# x_train = np.expand_dims(x_train, -1)\n",
    "# x_test = np.expand_dims(x_test, -1)\n",
    "print(\"x_train shape:\", x_train.shape)\n",
    "print(x_train.shape[0], \"train samples\")\n",
    "print(x_test.shape[0], \"test samples\")\n",
    "\n",
    "\n",
    "# convert class vectors to binary class matrices\n",
    "y_train = keras.utils.to_categorical(y_train, num_classes)\n",
    "y_test = keras.utils.to_categorical(y_test, num_classes)"
   ]
  },
  {
   "cell_type": "markdown",
   "metadata": {},
   "source": [
    "### 建立模型"
   ]
  },
  {
   "cell_type": "code",
   "execution_count": 32,
   "metadata": {},
   "outputs": [
    {
     "name": "stdout",
     "output_type": "stream",
     "text": [
      "Model: \"sequential_4\"\n",
      "_________________________________________________________________\n",
      " Layer (type)                Output Shape              Param #   \n",
      "=================================================================\n",
      " conv2d_8 (Conv2D)           (None, 26, 26, 32)        320       \n",
      "                                                                 \n",
      " max_pooling2d_8 (MaxPooling  (None, 13, 13, 32)       0         \n",
      " 2D)                                                             \n",
      "                                                                 \n",
      " conv2d_9 (Conv2D)           (None, 11, 11, 64)        18496     \n",
      "                                                                 \n",
      " max_pooling2d_9 (MaxPooling  (None, 5, 5, 64)         0         \n",
      " 2D)                                                             \n",
      "                                                                 \n",
      " flatten_4 (Flatten)         (None, 1600)              0         \n",
      "                                                                 \n",
      " dropout_1 (Dropout)         (None, 1600)              0         \n",
      "                                                                 \n",
      " dense_4 (Dense)             (None, 10)                16010     \n",
      "                                                                 \n",
      "=================================================================\n",
      "Total params: 34,826\n",
      "Trainable params: 34,826\n",
      "Non-trainable params: 0\n",
      "_________________________________________________________________\n"
     ]
    }
   ],
   "source": [
    "model = keras.Sequential(\n",
    "    [\n",
    "        keras.Input(shape=input_shape),\n",
    "        layers.Conv2D(32, kernel_size=(3, 3), activation=\"relu\"),\n",
    "        layers.MaxPooling2D(pool_size=(2, 2)),\n",
    "        layers.Conv2D(64, kernel_size=(3, 3), activation=\"relu\"),\n",
    "        layers.MaxPooling2D(pool_size=(2, 2)),\n",
    "        layers.Flatten(),\n",
    "        layers.Dropout(0.5),\n",
    "        layers.Dense(num_classes, activation=\"softmax\"),\n",
    "    ]\n",
    ")\n",
    "\n",
    "model.summary()"
   ]
  },
  {
   "cell_type": "markdown",
   "metadata": {},
   "source": [
    "### 訓練模型"
   ]
  },
  {
   "cell_type": "code",
   "execution_count": 33,
   "metadata": {},
   "outputs": [
    {
     "name": "stdout",
     "output_type": "stream",
     "text": [
      "Epoch 1/50\n",
      "422/422 [==============================] - 2s 3ms/step - loss: 0.3610 - accuracy: 0.8902 - val_loss: 0.0767 - val_accuracy: 0.9792\n",
      "Epoch 2/50\n",
      "422/422 [==============================] - 1s 2ms/step - loss: 0.1088 - accuracy: 0.9669 - val_loss: 0.0575 - val_accuracy: 0.9835\n",
      "Epoch 3/50\n",
      "422/422 [==============================] - 1s 2ms/step - loss: 0.0830 - accuracy: 0.9752 - val_loss: 0.0458 - val_accuracy: 0.9877\n",
      "Epoch 4/50\n",
      "422/422 [==============================] - 1s 2ms/step - loss: 0.0701 - accuracy: 0.9784 - val_loss: 0.0416 - val_accuracy: 0.9888\n",
      "Epoch 5/50\n",
      "422/422 [==============================] - 1s 2ms/step - loss: 0.0616 - accuracy: 0.9802 - val_loss: 0.0377 - val_accuracy: 0.9895\n",
      "Epoch 6/50\n",
      "422/422 [==============================] - 1s 2ms/step - loss: 0.0562 - accuracy: 0.9824 - val_loss: 0.0383 - val_accuracy: 0.9893\n",
      "Epoch 7/50\n",
      "422/422 [==============================] - 1s 2ms/step - loss: 0.0516 - accuracy: 0.9842 - val_loss: 0.0334 - val_accuracy: 0.9910\n",
      "Epoch 8/50\n",
      "422/422 [==============================] - 1s 2ms/step - loss: 0.0465 - accuracy: 0.9853 - val_loss: 0.0327 - val_accuracy: 0.9905\n",
      "Epoch 9/50\n",
      "422/422 [==============================] - 1s 2ms/step - loss: 0.0437 - accuracy: 0.9861 - val_loss: 0.0320 - val_accuracy: 0.9913\n",
      "Epoch 10/50\n",
      "422/422 [==============================] - 1s 2ms/step - loss: 0.0435 - accuracy: 0.9860 - val_loss: 0.0333 - val_accuracy: 0.9918\n",
      "Epoch 11/50\n",
      "422/422 [==============================] - 1s 2ms/step - loss: 0.0392 - accuracy: 0.9873 - val_loss: 0.0290 - val_accuracy: 0.9918\n",
      "Epoch 12/50\n",
      "422/422 [==============================] - 1s 2ms/step - loss: 0.0367 - accuracy: 0.9880 - val_loss: 0.0315 - val_accuracy: 0.9917\n",
      "Epoch 13/50\n",
      "422/422 [==============================] - 1s 2ms/step - loss: 0.0358 - accuracy: 0.9884 - val_loss: 0.0298 - val_accuracy: 0.9910\n",
      "Epoch 14/50\n",
      "422/422 [==============================] - 1s 2ms/step - loss: 0.0344 - accuracy: 0.9888 - val_loss: 0.0289 - val_accuracy: 0.9923\n",
      "Epoch 15/50\n",
      "422/422 [==============================] - 1s 2ms/step - loss: 0.0326 - accuracy: 0.9895 - val_loss: 0.0316 - val_accuracy: 0.9912\n",
      "Epoch 16/50\n",
      "422/422 [==============================] - 1s 2ms/step - loss: 0.0314 - accuracy: 0.9900 - val_loss: 0.0303 - val_accuracy: 0.9907\n",
      "Epoch 17/50\n",
      "422/422 [==============================] - 1s 2ms/step - loss: 0.0305 - accuracy: 0.9892 - val_loss: 0.0286 - val_accuracy: 0.9930\n",
      "Epoch 18/50\n",
      "422/422 [==============================] - 1s 2ms/step - loss: 0.0288 - accuracy: 0.9901 - val_loss: 0.0303 - val_accuracy: 0.9923\n",
      "Epoch 19/50\n",
      "422/422 [==============================] - 1s 2ms/step - loss: 0.0292 - accuracy: 0.9903 - val_loss: 0.0275 - val_accuracy: 0.9927\n",
      "Epoch 20/50\n",
      "422/422 [==============================] - 1s 2ms/step - loss: 0.0270 - accuracy: 0.9911 - val_loss: 0.0281 - val_accuracy: 0.9927\n",
      "Epoch 21/50\n",
      "422/422 [==============================] - 1s 2ms/step - loss: 0.0277 - accuracy: 0.9903 - val_loss: 0.0293 - val_accuracy: 0.9917\n",
      "Epoch 22/50\n",
      "422/422 [==============================] - 1s 2ms/step - loss: 0.0262 - accuracy: 0.9911 - val_loss: 0.0280 - val_accuracy: 0.9927\n",
      "Epoch 23/50\n",
      "422/422 [==============================] - 1s 2ms/step - loss: 0.0243 - accuracy: 0.9918 - val_loss: 0.0289 - val_accuracy: 0.9930\n",
      "Epoch 24/50\n",
      "422/422 [==============================] - 1s 2ms/step - loss: 0.0234 - accuracy: 0.9921 - val_loss: 0.0291 - val_accuracy: 0.9937\n",
      "Epoch 25/50\n",
      "422/422 [==============================] - 1s 2ms/step - loss: 0.0230 - accuracy: 0.9921 - val_loss: 0.0282 - val_accuracy: 0.9930\n",
      "Epoch 26/50\n",
      "422/422 [==============================] - 1s 2ms/step - loss: 0.0242 - accuracy: 0.9919 - val_loss: 0.0294 - val_accuracy: 0.9928\n",
      "Epoch 27/50\n",
      "422/422 [==============================] - 1s 2ms/step - loss: 0.0225 - accuracy: 0.9926 - val_loss: 0.0280 - val_accuracy: 0.9927\n",
      "Epoch 28/50\n",
      "422/422 [==============================] - 1s 2ms/step - loss: 0.0227 - accuracy: 0.9923 - val_loss: 0.0297 - val_accuracy: 0.9930\n",
      "Epoch 29/50\n",
      "422/422 [==============================] - 1s 2ms/step - loss: 0.0213 - accuracy: 0.9929 - val_loss: 0.0302 - val_accuracy: 0.9932\n",
      "Epoch 30/50\n",
      "422/422 [==============================] - 1s 2ms/step - loss: 0.0204 - accuracy: 0.9925 - val_loss: 0.0293 - val_accuracy: 0.9932\n",
      "Epoch 31/50\n",
      "422/422 [==============================] - 1s 2ms/step - loss: 0.0203 - accuracy: 0.9934 - val_loss: 0.0273 - val_accuracy: 0.9925\n",
      "Epoch 32/50\n",
      "422/422 [==============================] - 1s 2ms/step - loss: 0.0198 - accuracy: 0.9933 - val_loss: 0.0280 - val_accuracy: 0.9935\n",
      "Epoch 33/50\n",
      "422/422 [==============================] - 1s 2ms/step - loss: 0.0197 - accuracy: 0.9935 - val_loss: 0.0288 - val_accuracy: 0.9937\n",
      "Epoch 34/50\n",
      "422/422 [==============================] - 1s 2ms/step - loss: 0.0191 - accuracy: 0.9938 - val_loss: 0.0299 - val_accuracy: 0.9925\n",
      "Epoch 35/50\n",
      "422/422 [==============================] - 1s 2ms/step - loss: 0.0190 - accuracy: 0.9933 - val_loss: 0.0275 - val_accuracy: 0.9930\n",
      "Epoch 36/50\n",
      "422/422 [==============================] - 1s 2ms/step - loss: 0.0200 - accuracy: 0.9932 - val_loss: 0.0279 - val_accuracy: 0.9928\n",
      "Epoch 37/50\n",
      "422/422 [==============================] - 1s 2ms/step - loss: 0.0174 - accuracy: 0.9943 - val_loss: 0.0318 - val_accuracy: 0.9930\n",
      "Epoch 38/50\n",
      "422/422 [==============================] - 1s 2ms/step - loss: 0.0168 - accuracy: 0.9942 - val_loss: 0.0272 - val_accuracy: 0.9928\n",
      "Epoch 39/50\n",
      "422/422 [==============================] - 1s 2ms/step - loss: 0.0186 - accuracy: 0.9934 - val_loss: 0.0280 - val_accuracy: 0.9935\n",
      "Epoch 40/50\n",
      "422/422 [==============================] - 1s 2ms/step - loss: 0.0161 - accuracy: 0.9944 - val_loss: 0.0297 - val_accuracy: 0.9932\n",
      "Epoch 41/50\n",
      "422/422 [==============================] - 1s 2ms/step - loss: 0.0168 - accuracy: 0.9939 - val_loss: 0.0284 - val_accuracy: 0.9938\n",
      "Epoch 42/50\n",
      "422/422 [==============================] - 1s 2ms/step - loss: 0.0156 - accuracy: 0.9944 - val_loss: 0.0283 - val_accuracy: 0.9937\n",
      "Epoch 43/50\n",
      "422/422 [==============================] - 1s 2ms/step - loss: 0.0177 - accuracy: 0.9943 - val_loss: 0.0302 - val_accuracy: 0.9932\n",
      "Epoch 44/50\n",
      "422/422 [==============================] - 1s 2ms/step - loss: 0.0164 - accuracy: 0.9944 - val_loss: 0.0311 - val_accuracy: 0.9928\n",
      "Epoch 45/50\n",
      "422/422 [==============================] - 1s 2ms/step - loss: 0.0157 - accuracy: 0.9946 - val_loss: 0.0292 - val_accuracy: 0.9932\n",
      "Epoch 46/50\n",
      "422/422 [==============================] - 1s 2ms/step - loss: 0.0166 - accuracy: 0.9945 - val_loss: 0.0293 - val_accuracy: 0.9938\n",
      "Epoch 47/50\n",
      "422/422 [==============================] - 1s 2ms/step - loss: 0.0143 - accuracy: 0.9951 - val_loss: 0.0322 - val_accuracy: 0.9930\n",
      "Epoch 48/50\n",
      "422/422 [==============================] - 1s 2ms/step - loss: 0.0161 - accuracy: 0.9948 - val_loss: 0.0324 - val_accuracy: 0.9928\n",
      "Epoch 49/50\n",
      "422/422 [==============================] - 1s 2ms/step - loss: 0.0156 - accuracy: 0.9948 - val_loss: 0.0309 - val_accuracy: 0.9933\n",
      "Epoch 50/50\n",
      "422/422 [==============================] - 1s 2ms/step - loss: 0.0135 - accuracy: 0.9954 - val_loss: 0.0326 - val_accuracy: 0.9930\n"
     ]
    }
   ],
   "source": [
    "batch_size = 128\n",
    "epochs = 50\n",
    "\n",
    "model.compile(loss=\"categorical_crossentropy\", optimizer=\"adam\", metrics=[\"accuracy\"])\n",
    "history = model.fit(x_train, y_train, batch_size=batch_size, epochs=epochs, validation_split=0.1)"
   ]
  },
  {
   "cell_type": "markdown",
   "metadata": {},
   "source": [
    "### 評估模型"
   ]
  },
  {
   "cell_type": "code",
   "execution_count": 36,
   "metadata": {},
   "outputs": [
    {
     "name": "stdout",
     "output_type": "stream",
     "text": [
      "313/313 [==============================] - 1s 2ms/step - loss: 0.0254 - accuracy: 0.9928\n",
      "Test loss: 0.02543177269399166\n",
      "Test accuracy: 0.9927999973297119\n"
     ]
    }
   ],
   "source": [
    "# score = model.evaluate(x_test, y_test, verbose=0)\n",
    "loss, accuracy = model.evaluate(x_test, y_test)\n",
    "print(\"Test loss:\", loss)\n",
    "print(\"Test accuracy:\", accuracy)"
   ]
  },
  {
   "cell_type": "markdown",
   "metadata": {},
   "source": [
    "### 繪製學習曲線"
   ]
  },
  {
   "cell_type": "code",
   "execution_count": 37,
   "metadata": {},
   "outputs": [
    {
     "data": {
      "image/png": "[encoded data removed]",
      "text/plain": [
       "<Figure size 640x480 with 1 Axes>"
      ]
     },
     "metadata": {},
     "output_type": "display_data"
    },
    {
     "name": "stdout",
     "output_type": "stream",
     "text": [
      "Test loss: 0.0254\n",
      "Test accuracy: 0.993\n"
     ]
    }
   ],
   "source": [
    "from  matplotlib import pyplot as plt\n",
    "plt.plot(history.history['accuracy'])\n",
    "plt.plot(history.history['val_accuracy'])\n",
    "plt.title('model accuracy')\n",
    "plt.ylabel('accuracy')\n",
    "plt.xlabel('epoch')\n",
    "plt.legend(['training', 'validation'], loc='best')\n",
    "plt.show()\n",
    "\n",
    "print(f'Test loss: {loss:.3}')\n",
    "print(f'Test accuracy: {accuracy:.3}')"
   ]
  }
 ],
 "metadata": {
  "kernelspec": {
   "display_name": "Python 3.10.8 ('tf2')",
   "language": "python",
   "name": "python3"
  },
  "language_info": {
   "codemirror_mode": {
    "name": "ipython",
    "version": 3
   },
   "file_extension": ".py",
   "mimetype": "text/x-python",
   "name": "python",
   "nbconvert_exporter": "python",
   "pygments_lexer": "ipython3",
   "version": "3.8.15"
  },
  "orig_nbformat": 4,
  "vscode": {
   "interpreter": {
    "hash": "ef8ab87b9b534aeac9d3b69b806a42a5bb2ddd0e87978ed2609b10fbe8a47363"
   }
  }
 },
 "nbformat": 4,
 "nbformat_minor": 2
}

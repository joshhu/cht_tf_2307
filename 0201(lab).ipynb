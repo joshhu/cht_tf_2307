{
  "cells": [
    {
      "cell_type": "markdown",
      "metadata": {
        "id": "v_LYZbTZEB_D"
      },
      "source": [
        "#第2章：神經網路的數學概念"
      ]
    },
    {
      "cell_type": "markdown",
      "metadata": {
        "id": "zvGbg3qvEB_F"
      },
      "source": [
        "## 0201：MNIST手寫辨識"
      ]
    },
    {
      "cell_type": "markdown",
      "metadata": {
        "id": "RKeMgtVwEB_I"
      },
      "source": [
        "#### 在Keras中載入MNIST資料集"
      ]
    },
    {
      "cell_type": "code",
      "execution_count": 1,
      "metadata": {
        "id": "VAVdNtv4EB_J"
      },
      "outputs": [],
      "source": [
        "from tensorflow import keras\n",
        "from keras.datasets import mnist\n",
        "\n",
        "(train_images, train_labels), (test_images, test_labels) = mnist.load_data()"
      ]
    },
    {
      "cell_type": "markdown",
      "metadata": {
        "id": "BwsI00ZYI0ja"
      },
      "source": [
        "#### 查看資料集的結構及資料大小"
      ]
    },
    {
      "cell_type": "code",
      "execution_count": 2,
      "metadata": {
        "colab": {
          "base_uri": "https://localhost:8080/"
        },
        "id": "jG3Jss-jEB_K",
        "outputId": "6a23874b-203f-4aa2-8f5f-47b2faee984a"
      },
      "outputs": [
        {
          "data": {
            "text/plain": [
              "(60000, 28, 28)"
            ]
          },
          "execution_count": 2,
          "metadata": {},
          "output_type": "execute_result"
        }
      ],
      "source": [
        "train_images.shape"
      ]
    },
    {
      "cell_type": "code",
      "execution_count": 3,
      "metadata": {
        "colab": {
          "base_uri": "https://localhost:8080/"
        },
        "id": "1gEDp-f-EB_L",
        "outputId": "bd809027-a7bf-490d-9958-90437b085e71"
      },
      "outputs": [
        {
          "data": {
            "text/plain": [
              "60000"
            ]
          },
          "execution_count": 3,
          "metadata": {},
          "output_type": "execute_result"
        }
      ],
      "source": [
        "len(train_labels)"
      ]
    },
    {
      "cell_type": "code",
      "execution_count": 4,
      "metadata": {
        "colab": {
          "base_uri": "https://localhost:8080/"
        },
        "id": "rluGYZx5EB_M",
        "outputId": "f59bedb9-6dc1-435d-8e12-285543b5ec81"
      },
      "outputs": [
        {
          "data": {
            "text/plain": [
              "array([5, 0, 4, ..., 5, 6, 8], dtype=uint8)"
            ]
          },
          "execution_count": 4,
          "metadata": {},
          "output_type": "execute_result"
        }
      ],
      "source": [
        "train_labels"
      ]
    },
    {
      "cell_type": "code",
      "execution_count": 5,
      "metadata": {
        "colab": {
          "base_uri": "https://localhost:8080/",
          "height": 283
        },
        "id": "W9xi6UHwI0jb",
        "outputId": "0b341012-4745-401a-d2a0-e12f639dbc65"
      },
      "outputs": [
        {
          "name": "stdout",
          "output_type": "stream",
          "text": [
            "5\n"
          ]
        },
        {
          "data": {
            "image/png": "[encoded data removed]",
            "text/plain": [
              "<Figure size 640x480 with 1 Axes>"
            ]
          },
          "metadata": {},
          "output_type": "display_data"
        }
      ],
      "source": [
        "from matplotlib import pyplot as plt\n",
        "\n",
        "plt.imshow(train_images[0], cmap='gray')\n",
        "print(train_labels[0])"
      ]
    },
    {
      "cell_type": "code",
      "execution_count": 6,
      "metadata": {
        "colab": {
          "base_uri": "https://localhost:8080/"
        },
        "id": "5spGyWk1EB_M",
        "outputId": "ca6c6e4a-ae18-4403-dc21-109df02f967c"
      },
      "outputs": [
        {
          "data": {
            "text/plain": [
              "(10000, 28, 28)"
            ]
          },
          "execution_count": 6,
          "metadata": {},
          "output_type": "execute_result"
        }
      ],
      "source": [
        "test_images.shape"
      ]
    },
    {
      "cell_type": "code",
      "execution_count": 7,
      "metadata": {
        "colab": {
          "base_uri": "https://localhost:8080/"
        },
        "id": "mqt-3Gz1EB_O",
        "outputId": "1b3a344d-33e3-4a24-8172-cc0028a28f29"
      },
      "outputs": [
        {
          "data": {
            "text/plain": [
              "10000"
            ]
          },
          "execution_count": 7,
          "metadata": {},
          "output_type": "execute_result"
        }
      ],
      "source": [
        "len(test_labels)"
      ]
    },
    {
      "cell_type": "code",
      "execution_count": 8,
      "metadata": {
        "colab": {
          "base_uri": "https://localhost:8080/"
        },
        "id": "PQQ9DTdeEB_P",
        "outputId": "9c560cca-ce80-4ebc-baf0-4f5ad5e3516b"
      },
      "outputs": [
        {
          "data": {
            "text/plain": [
              "array([7, 2, 1, ..., 4, 5, 6], dtype=uint8)"
            ]
          },
          "execution_count": 8,
          "metadata": {},
          "output_type": "execute_result"
        }
      ],
      "source": [
        "test_labels"
      ]
    },
    {
      "cell_type": "markdown",
      "metadata": {
        "id": "DvBMo69aI0jc"
      },
      "source": [
        "#### 神經網路架構"
      ]
    },
    {
      "cell_type": "code",
      "execution_count": 9,
      "metadata": {
        "id": "PSsbL5UrEB_Q"
      },
      "outputs": [],
      "source": [
        "from tensorflow import keras\n",
        "from tensorflow.keras import layers\n",
        "model = keras.Sequential([\n",
        "    layers.Dense(512, activation=\"sigmoid\"),\n",
        "    # layers.Dense(1024, activation=\"sigmoid\"),\n",
        "    layers.Dense(10, activation=\"softmax\")\n",
        "])"
      ]
    },
    {
      "cell_type": "markdown",
      "metadata": {
        "id": "tN9Xwr5uEB_S"
      },
      "source": [
        "#### 編譯步驟"
      ]
    },
    {
      "cell_type": "code",
      "execution_count": 10,
      "metadata": {
        "id": "-ddvy6cwEB_S"
      },
      "outputs": [],
      "source": [
        "import tensorflow as tf\n",
        "\n",
        "model.compile(optimizer=\"sgd\",\n",
        "       loss=\"sparse_categorical_crossentropy\",\n",
        "       # loss='mean_squared_error',\n",
        "       metrics=[\"accuracy\"])"
      ]
    },
    {
      "cell_type": "markdown",
      "metadata": {
        "id": "TnsJ2RQPEB_T"
      },
      "source": [
        "#### 準備圖片資料"
      ]
    },
    {
      "cell_type": "code",
      "execution_count": 11,
      "metadata": {
        "id": "FoajpWq2EB_T"
      },
      "outputs": [],
      "source": [
        "train_images = train_images.reshape((60000, 28 * 28))\n",
        "train_images = train_images.astype(\"float32\") / 255\n",
        "test_images = test_images.reshape((10000, 28 * 28))\n",
        "test_images = test_images.astype(\"float32\") / 255"
      ]
    },
    {
      "cell_type": "code",
      "execution_count": 12,
      "metadata": {
        "colab": {
          "base_uri": "https://localhost:8080/"
        },
        "id": "hiIp_POBI0jd",
        "outputId": "bfcdd264-7490-4c21-af11-ca35881e0bfd"
      },
      "outputs": [
        {
          "name": "stdout",
          "output_type": "stream",
          "text": [
            "Model: \"sequential\"\n",
            "_________________________________________________________________\n",
            " Layer (type)                Output Shape              Param #   \n",
            "=================================================================\n",
            " dense (Dense)               (None, 512)               401920    \n",
            "                                                                 \n",
            " dense_1 (Dense)             (None, 10)                5130      \n",
            "                                                                 \n",
            "=================================================================\n",
            "Total params: 407,050\n",
            "Trainable params: 407,050\n",
            "Non-trainable params: 0\n",
            "_________________________________________________________________\n"
          ]
        }
      ],
      "source": [
        "model.build(input_shape=(None, 28 * 28))\n",
        "model.summary()"
      ]
    },
    {
      "cell_type": "code",
      "execution_count": 13,
      "metadata": {
        "colab": {
          "base_uri": "https://localhost:8080/",
          "height": 410
        },
        "id": "FFal3U9gQKe9",
        "outputId": "aba767b0-8d16-4499-a5c1-1a86a415ac53"
      },
      "outputs": [
        {
          "name": "stdout",
          "output_type": "stream",
          "text": [
            "You must install pydot (`pip install pydot`) and install graphviz (see instructions at https://graphviz.gitlab.io/download/) for plot_model to work.\n"
          ]
        }
      ],
      "source": [
        "import tensorflow as tf\n",
        "tf.keras.utils.plot_model(\n",
        "    model,\n",
        "    to_file='model.png',\n",
        "    show_shapes=True,\n",
        "    show_dtype=False,\n",
        "    show_layer_names=True,\n",
        "    rankdir='TB',\n",
        "    expand_nested=False,\n",
        "    dpi=128,\n",
        "    layer_range=None,\n",
        "    show_layer_activations=True\n",
        ")"
      ]
    },
    {
      "cell_type": "markdown",
      "metadata": {
        "id": "EoG1sSCoEB_U"
      },
      "source": [
        "#### 訓練神經網路模型"
      ]
    },
    {
      "cell_type": "code",
      "execution_count": 14,
      "metadata": {
        "colab": {
          "base_uri": "https://localhost:8080/"
        },
        "id": "5GxTtWKFEB_U",
        "outputId": "aceba882-2160-435a-e4bb-842983a96f9d"
      },
      "outputs": [
        {
          "name": "stdout",
          "output_type": "stream",
          "text": [
            "Epoch 1/5\n",
            "375/375 [==============================] - 1s 3ms/step - loss: 2.0244 - accuracy: 0.5110 - val_loss: 1.7467 - val_accuracy: 0.6970\n",
            "Epoch 2/5\n",
            "375/375 [==============================] - 1s 2ms/step - loss: 1.5368 - accuracy: 0.7340 - val_loss: 1.3187 - val_accuracy: 0.7906\n",
            "Epoch 3/5\n",
            "375/375 [==============================] - 1s 3ms/step - loss: 1.1924 - accuracy: 0.7866 - val_loss: 1.0341 - val_accuracy: 0.8185\n",
            "Epoch 4/5\n",
            "375/375 [==============================] - 1s 2ms/step - loss: 0.9698 - accuracy: 0.8132 - val_loss: 0.8556 - val_accuracy: 0.8403\n",
            "Epoch 5/5\n",
            "375/375 [==============================] - 1s 2ms/step - loss: 0.8275 - accuracy: 0.8312 - val_loss: 0.7391 - val_accuracy: 0.8533\n"
          ]
        }
      ],
      "source": [
        "history = model.fit(train_images, train_labels, epochs=5, batch_size=128, validation_split=0.2)"
      ]
    },
    {
      "cell_type": "markdown",
      "metadata": {
        "id": "XA3Scc2DEB_U"
      },
      "source": [
        "#### 使用模型來進行預測"
      ]
    },
    {
      "cell_type": "code",
      "execution_count": 15,
      "metadata": {
        "id": "SRGVDN0sEB_V"
      },
      "outputs": [
        {
          "name": "stdout",
          "output_type": "stream",
          "text": [
            "1/1 [==============================] - 0s 41ms/step\n"
          ]
        },
        {
          "data": {
            "text/plain": [
              "array([0.00640091, 0.00357047, 0.00619968, 0.01170884, 0.01623418,\n",
              "       0.01394313, 0.00226917, 0.85779184, 0.00704227, 0.0748395 ],\n",
              "      dtype=float32)"
            ]
          },
          "execution_count": 15,
          "metadata": {},
          "output_type": "execute_result"
        }
      ],
      "source": [
        "test_digits = test_images[0:10]\n",
        "predictions = model.predict(test_digits)\n",
        "predictions[0]"
      ]
    },
    {
      "cell_type": "code",
      "execution_count": 16,
      "metadata": {
        "id": "iOiwghFBEB_W"
      },
      "outputs": [
        {
          "name": "stdout",
          "output_type": "stream",
          "text": [
            "7\n"
          ]
        },
        {
          "data": {
            "text/plain": [
              "<matplotlib.image.AxesImage at 0x142624c00d0>"
            ]
          },
          "execution_count": 16,
          "metadata": {},
          "output_type": "execute_result"
        },
        {
          "data": {
            "image/png": "[encoded data removed]",
            "text/plain": [
              "<Figure size 640x480 with 1 Axes>"
            ]
          },
          "metadata": {},
          "output_type": "display_data"
        }
      ],
      "source": [
        "print(predictions[0].argmax())\n",
        "plt.imshow(test_images[0].reshape(28, 28), cmap='gray')"
      ]
    },
    {
      "cell_type": "code",
      "execution_count": 17,
      "metadata": {
        "id": "PTJnEcwzEB_W"
      },
      "outputs": [
        {
          "data": {
            "text/plain": [
              "0.85779184"
            ]
          },
          "execution_count": 17,
          "metadata": {},
          "output_type": "execute_result"
        }
      ],
      "source": [
        "predictions[0][7]"
      ]
    },
    {
      "cell_type": "code",
      "execution_count": 18,
      "metadata": {
        "id": "y-RuAsvCEB_X"
      },
      "outputs": [
        {
          "data": {
            "text/plain": [
              "7"
            ]
          },
          "execution_count": 18,
          "metadata": {},
          "output_type": "execute_result"
        }
      ],
      "source": [
        "test_labels[0]"
      ]
    },
    {
      "cell_type": "markdown",
      "metadata": {
        "id": "XG9D28AREB_X"
      },
      "source": [
        "####  評估模型在測試集上的表現"
      ]
    },
    {
      "cell_type": "code",
      "execution_count": 19,
      "metadata": {
        "id": "xXTXW0aMEB_X"
      },
      "outputs": [
        {
          "name": "stdout",
          "output_type": "stream",
          "text": [
            "313/313 [==============================] - 0s 632us/step - loss: 0.7450 - accuracy: 0.8474\n",
            "acc: 0.8474000096321106\n"
          ]
        }
      ],
      "source": [
        "loss, accuracy = model.evaluate(test_images, test_labels)\n",
        "print(f\"acc: {accuracy}\")"
      ]
    },
    {
      "cell_type": "code",
      "execution_count": 20,
      "metadata": {},
      "outputs": [
        {
          "data": {
            "text/plain": [
              "{'loss': [2.0243754386901855,\n",
              "  1.5368092060089111,\n",
              "  1.1924166679382324,\n",
              "  0.9698410034179688,\n",
              "  0.8274675011634827],\n",
              " 'accuracy': [0.5110416412353516,\n",
              "  0.7339583039283752,\n",
              "  0.7866041660308838,\n",
              "  0.8132291436195374,\n",
              "  0.8311874866485596],\n",
              " 'val_loss': [1.7466962337493896,\n",
              "  1.3187487125396729,\n",
              "  1.034091591835022,\n",
              "  0.8555606007575989,\n",
              "  0.7390850186347961],\n",
              " 'val_accuracy': [0.6970000267028809,\n",
              "  0.7905833125114441,\n",
              "  0.8184999823570251,\n",
              "  0.8402500152587891,\n",
              "  0.8532500267028809]}"
            ]
          },
          "execution_count": 20,
          "metadata": {},
          "output_type": "execute_result"
        }
      ],
      "source": [
        "history.history"
      ]
    },
    {
      "cell_type": "code",
      "execution_count": 21,
      "metadata": {},
      "outputs": [
        {
          "data": {
            "image/png": "[encoded data removed]",
            "text/plain": [
              "<Figure size 640x480 with 1 Axes>"
            ]
          },
          "metadata": {},
          "output_type": "display_data"
        },
        {
          "name": "stdout",
          "output_type": "stream",
          "text": [
            "Test loss: 0.745\n",
            "Test accuracy: 0.847\n"
          ]
        }
      ],
      "source": [
        "plt.plot(history.history['accuracy'])\n",
        "plt.plot(history.history['val_accuracy'])\n",
        "plt.title('model accuracy')\n",
        "plt.ylabel('accuracy')\n",
        "plt.xlabel('epoch')\n",
        "plt.legend(['training', 'validation'], loc='best')\n",
        "plt.show()\n",
        "\n",
        "print(f'Test loss: {loss:.3}')\n",
        "print(f'Test accuracy: {accuracy:.3}')"
      ]
    }
  ],
  "metadata": {
    "colab": {
      "provenance": [],
      "toc_visible": true
    },
    "kernelspec": {
      "display_name": "Python 3.10.8 ('tf2')",
      "language": "python",
      "name": "python3"
    },
    "language_info": {
      "codemirror_mode": {
        "name": "ipython",
        "version": 3
      },
      "file_extension": ".py",
      "mimetype": "text/x-python",
      "name": "python",
      "nbconvert_exporter": "python",
      "pygments_lexer": "ipython3",
      "version": "3.10.8"
    },
    "vscode": {
      "interpreter": {
        "hash": "ef8ab87b9b534aeac9d3b69b806a42a5bb2ddd0e87978ed2609b10fbe8a47363"
      }
    }
  },
  "nbformat": 4,
  "nbformat_minor": 0
}

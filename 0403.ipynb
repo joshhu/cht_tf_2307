{
  "cells": [
    {
      "attachments": {},
      "cell_type": "markdown",
      "metadata": {},
      "source": [
        "# `numpy`部分"
      ]
    },
    {
      "attachments": {},
      "cell_type": "markdown",
      "metadata": {
        "id": "V5ndFewMEB_X"
      },
      "source": [
        "## 神經網路的資料表示法：張量Tensor"
      ]
    },
    {
      "attachments": {},
      "cell_type": "markdown",
      "metadata": {
        "id": "5m1_vFOaEB_Y"
      },
      "source": [
        "### 純量(0D 張量）"
      ]
    },
    {
      "cell_type": "code",
      "execution_count": 3,
      "metadata": {
        "id": "hKywxUoPEB_Y",
        "outputId": "62d3a5eb-3a95-4d00-a84d-e23169e4bb90"
      },
      "outputs": [
        {
          "name": "stdout",
          "output_type": "stream",
          "text": [
            "12\n",
            "0\n"
          ]
        }
      ],
      "source": [
        "import numpy as np\n",
        "x = np.array(12)\n",
        "print(x)\n",
        "print(x.ndim)"
      ]
    },
    {
      "attachments": {},
      "cell_type": "markdown",
      "metadata": {
        "id": "-na8WG7yEB_Z"
      },
      "source": [
        "###  向量(1D 張量）"
      ]
    },
    {
      "cell_type": "code",
      "execution_count": 4,
      "metadata": {
        "id": "JspPp7c1EB_Z",
        "outputId": "1b38568c-1df6-4617-aa18-63d3ab9b5d62"
      },
      "outputs": [
        {
          "name": "stdout",
          "output_type": "stream",
          "text": [
            "[12  3  6 14  7]\n",
            "1\n"
          ]
        }
      ],
      "source": [
        "x = np.array([12, 3, 6, 14, 7])\n",
        "print(x)\n",
        "print(x.ndim)"
      ]
    },
    {
      "attachments": {},
      "cell_type": "markdown",
      "metadata": {
        "id": "dPN4LKODEB_a"
      },
      "source": [
        "###  矩陣(2D 張量）"
      ]
    },
    {
      "cell_type": "code",
      "execution_count": 5,
      "metadata": {
        "id": "HIgYOUiGEB_a",
        "outputId": "b8694675-4058-4869-8e53-81719c10f364"
      },
      "outputs": [
        {
          "name": "stdout",
          "output_type": "stream",
          "text": [
            "[[ 5 78  2 34  0]\n",
            " [ 6 79  3 35  1]\n",
            " [ 7 80  4 36  2]]\n",
            "2\n"
          ]
        }
      ],
      "source": [
        "x = np.array([[5, 78, 2, 34, 0],\n",
        "        [6, 79, 3, 35, 1],\n",
        "        [7, 80, 4, 36, 2]])\n",
        "print(x)\n",
        "print(x.ndim)"
      ]
    },
    {
      "attachments": {},
      "cell_type": "markdown",
      "metadata": {
        "id": "VAtL6p_pEB_a"
      },
      "source": [
        "###  3D張量和高階張量"
      ]
    },
    {
      "cell_type": "code",
      "execution_count": 6,
      "metadata": {
        "id": "Bn5rgPvYEB_b",
        "outputId": "ba83cea7-8e49-4880-db10-ed858334b595"
      },
      "outputs": [
        {
          "name": "stdout",
          "output_type": "stream",
          "text": [
            "[[[ 5 78  2 34  0]\n",
            "  [ 6 79  3 35  1]\n",
            "  [ 7 80  4 36  2]]\n",
            "\n",
            " [[ 5 78  2 34  0]\n",
            "  [ 6 79  3 35  1]\n",
            "  [ 7 80  4 36  2]]\n",
            "\n",
            " [[ 5 78  2 34  0]\n",
            "  [ 6 79  3 35  1]\n",
            "  [ 7 80  4 36  2]]]\n",
            "3\n"
          ]
        }
      ],
      "source": [
        "x = np.array([[[5, 78, 2, 34, 0],\n",
        "        [6, 79, 3, 35, 1],\n",
        "        [7, 80, 4, 36, 2]],\n",
        "        [[5, 78, 2, 34, 0],\n",
        "        [6, 79, 3, 35, 1],\n",
        "        [7, 80, 4, 36, 2]],\n",
        "        [[5, 78, 2, 34, 0],\n",
        "        [6, 79, 3, 35, 1],\n",
        "        [7, 80, 4, 36, 2]]])\n",
        "print(x)\n",
        "print(x.ndim)"
      ]
    },
    {
      "attachments": {},
      "cell_type": "markdown",
      "metadata": {
        "id": "QjT2uDEREB_b"
      },
      "source": [
        "## 圖形用張量表示\n",
        "## 張量的關鍵屬性\n",
        "本例使用`tf.keras`中所附的資料集`mnist`來載入資料，**注意**資料是以批次方式存在，因此shape會有60000張28x28像素的圖片，shape為(60000, 28, 28)"
      ]
    },
    {
      "cell_type": "code",
      "execution_count": 7,
      "metadata": {
        "colab": {
          "base_uri": "https://localhost:8080/"
        },
        "id": "O2kZg5V0EB_b",
        "outputId": "c429a825-5fb1-4235-d64f-75aaa8af3d00"
      },
      "outputs": [],
      "source": [
        "from tensorflow.keras.datasets import mnist\n",
        "\n",
        "(train_images, train_labels), (test_images, test_labels) = mnist.load_data()"
      ]
    },
    {
      "cell_type": "code",
      "execution_count": 9,
      "metadata": {
        "id": "2aGNCPWhEB_b",
        "outputId": "87e2011b-b92e-4dda-eb6b-88e515dc4143"
      },
      "outputs": [
        {
          "name": "stdout",
          "output_type": "stream",
          "text": [
            "3\n",
            "(60000, 28, 28)\n"
          ]
        }
      ],
      "source": [
        "print(train_images.ndim)\n",
        "print(train_images.shape)"
      ]
    },
    {
      "cell_type": "code",
      "execution_count": 10,
      "metadata": {
        "id": "EmgCzOX0EB_c",
        "outputId": "af1b05a8-c478-48a4-d6d4-d4580de7f405"
      },
      "outputs": [
        {
          "name": "stdout",
          "output_type": "stream",
          "text": [
            "uint8\n"
          ]
        }
      ],
      "source": [
        "print(train_images.dtype)"
      ]
    },
    {
      "attachments": {},
      "cell_type": "markdown",
      "metadata": {
        "id": "iY2Qj2axEB_c"
      },
      "source": [
        "**顯示第5張圖**"
      ]
    },
    {
      "cell_type": "code",
      "execution_count": 12,
      "metadata": {
        "id": "BTD93kd7EB_c",
        "outputId": "550ca391-479f-478d-b03a-0f46c7b98d9d"
      },
      "outputs": [
        {
          "data": {
            "image/png": "[encoded data removed]",
            "text/plain": [
              "<Figure size 432x288 with 1 Axes>"
            ]
          },
          "metadata": {
            "needs_background": "light"
          },
          "output_type": "display_data"
        }
      ],
      "source": [
        "import matplotlib.pyplot as plt\n",
        "digit = train_images[4]\n",
        "plt.imshow(digit, cmap=plt.cm.binary)\n",
        "plt.show()"
      ]
    },
    {
      "cell_type": "code",
      "execution_count": 13,
      "metadata": {
        "id": "3kf3ZvwCEB_d",
        "outputId": "4469a687-0b7f-4d25-d5f0-ff124003b9ad"
      },
      "outputs": [
        {
          "data": {
            "text/plain": [
              "9"
            ]
          },
          "execution_count": 13,
          "metadata": {},
          "output_type": "execute_result"
        }
      ],
      "source": [
        "train_labels[4]"
      ]
    },
    {
      "attachments": {},
      "cell_type": "markdown",
      "metadata": {
        "id": "vqOZJ27jEB_d"
      },
      "source": [
        "### 在NumPy做張量切片 (Tensor Slicing)"
      ]
    },
    {
      "cell_type": "code",
      "execution_count": 14,
      "metadata": {
        "id": "45Amt_59EB_d"
      },
      "outputs": [
        {
          "data": {
            "text/plain": [
              "(90, 28, 28)"
            ]
          },
          "execution_count": 14,
          "metadata": {},
          "output_type": "execute_result"
        }
      ],
      "source": [
        "my_slice = train_images[10:100]\n",
        "my_slice.shape"
      ]
    },
    {
      "cell_type": "code",
      "execution_count": 15,
      "metadata": {
        "id": "ljnncJ_qEB_e"
      },
      "outputs": [
        {
          "data": {
            "text/plain": [
              "(90, 28, 28)"
            ]
          },
          "execution_count": 15,
          "metadata": {},
          "output_type": "execute_result"
        }
      ],
      "source": [
        "my_slice = train_images[10:100, :, :]\n",
        "my_slice.shape"
      ]
    },
    {
      "cell_type": "code",
      "execution_count": 16,
      "metadata": {
        "id": "d58r02RREB_e"
      },
      "outputs": [
        {
          "data": {
            "text/plain": [
              "(90, 28, 28)"
            ]
          },
          "execution_count": 16,
          "metadata": {},
          "output_type": "execute_result"
        }
      ],
      "source": [
        "my_slice = train_images[10:100, 0:28, 0:28]\n",
        "my_slice.shape"
      ]
    },
    {
      "cell_type": "code",
      "execution_count": 23,
      "metadata": {
        "id": "rsDDxXCwEB_e"
      },
      "outputs": [
        {
          "name": "stdout",
          "output_type": "stream",
          "text": [
            "(60000, 14, 14)\n"
          ]
        }
      ],
      "source": [
        "my_slice = train_images[:, 14:, 14:]\n",
        "print(my_slice.shape)"
      ]
    },
    {
      "cell_type": "code",
      "execution_count": 21,
      "metadata": {},
      "outputs": [
        {
          "data": {
            "image/png": "[encoded data removed]",
            "text/plain": [
              "<Figure size 432x288 with 1 Axes>"
            ]
          },
          "metadata": {
            "needs_background": "light"
          },
          "output_type": "display_data"
        }
      ],
      "source": [
        "plt.imshow(my_slice[0], cmap=plt.cm.binary)\n",
        "plt.show()"
      ]
    },
    {
      "cell_type": "code",
      "execution_count": 24,
      "metadata": {
        "id": "NakIjwShEB_e"
      },
      "outputs": [
        {
          "name": "stdout",
          "output_type": "stream",
          "text": [
            "(60000, 14, 14)\n"
          ]
        }
      ],
      "source": [
        "my_slice = train_images[:, 7:-7, 7:-7]\n",
        "print(my_slice.shape)"
      ]
    },
    {
      "cell_type": "code",
      "execution_count": 25,
      "metadata": {},
      "outputs": [
        {
          "data": {
            "image/png": "[encoded data removed]",
            "text/plain": [
              "<Figure size 432x288 with 1 Axes>"
            ]
          },
          "metadata": {
            "needs_background": "light"
          },
          "output_type": "display_data"
        }
      ],
      "source": [
        "plt.imshow(my_slice[0], cmap=plt.cm.binary)\n",
        "plt.show()"
      ]
    },
    {
      "attachments": {},
      "cell_type": "markdown",
      "metadata": {
        "id": "Ac7a0mToEB_e"
      },
      "source": [
        "### 資料批次 (batch) 的概念"
      ]
    },
    {
      "cell_type": "code",
      "execution_count": 27,
      "metadata": {
        "id": "rFIepJioEB_f"
      },
      "outputs": [
        {
          "name": "stdout",
          "output_type": "stream",
          "text": [
            "(128, 28, 28)\n"
          ]
        }
      ],
      "source": [
        "batch = train_images[:128]\n",
        "print(batch.shape)"
      ]
    },
    {
      "cell_type": "code",
      "execution_count": 28,
      "metadata": {
        "id": "wUooK_I8EB_f"
      },
      "outputs": [
        {
          "name": "stdout",
          "output_type": "stream",
          "text": [
            "(128, 28, 28)\n"
          ]
        }
      ],
      "source": [
        "batch = train_images[128:256]\n",
        "print(batch.shape)"
      ]
    },
    {
      "cell_type": "code",
      "execution_count": 29,
      "metadata": {
        "id": "VSjSo7bXEB_f"
      },
      "outputs": [
        {
          "name": "stdout",
          "output_type": "stream",
          "text": [
            "(128, 28, 28)\n"
          ]
        }
      ],
      "source": [
        "n = 3\n",
        "batch = train_images[128 * n:128 * (n + 1)]\n",
        "print(batch.shape)"
      ]
    },
    {
      "attachments": {},
      "cell_type": "markdown",
      "metadata": {
        "id": "0ZqVzhacEB_h"
      },
      "source": [
        "## 神經網路的工具：張量運算"
      ]
    },
    {
      "attachments": {},
      "cell_type": "markdown",
      "metadata": {
        "id": "Vi5pQGP9EB_h"
      },
      "source": [
        "### 逐元素的運算"
      ]
    },
    {
      "attachments": {
        "image.png": {
          "image/png": "[encoded data removed]"
        }
      },
      "cell_type": "markdown",
      "metadata": {
        "id": "UzCEjsaXBty0"
      },
      "source": [
        "### 手刻一個RELU\n",
        "![image.png](attachment:image.png)"
      ]
    },
    {
      "cell_type": "code",
      "execution_count": 31,
      "metadata": {
        "id": "JXEZCJdeEB_h"
      },
      "outputs": [
        {
          "name": "stdout",
          "output_type": "stream",
          "text": [
            "[[1 0 2]\n",
            " [0 3 0]]\n"
          ]
        }
      ],
      "source": [
        "def naive_relu(x):\n",
        "    assert len(x.shape) == 2\n",
        "    x = x.copy()\n",
        "    for i in range(x.shape[0]):\n",
        "        for j in range(x.shape[1]):\n",
        "            x[i, j] = max(x[i, j], 0)\n",
        "    return x\n",
        "x = np.array([[1, -1, 2], [-2, 3, -3]])\n",
        "print(naive_relu(x))"
      ]
    },
    {
      "cell_type": "code",
      "execution_count": 34,
      "metadata": {
        "id": "48wzl1S7EB_i"
      },
      "outputs": [
        {
          "data": {
            "text/plain": [
              "array([[ 4, -3,  6],\n",
              "       [-7,  4, -5]])"
            ]
          },
          "execution_count": 34,
          "metadata": {},
          "output_type": "execute_result"
        }
      ],
      "source": [
        "def naive_add(x, y):\n",
        "    assert len(x.shape) == 2\n",
        "    assert x.shape == y.shape\n",
        "    x = x.copy()\n",
        "    for i in range(x.shape[0]):\n",
        "        for j in range(x.shape[1]):\n",
        "            x[i, j] += y[i, j]\n",
        "    return x\n",
        "x = np.array([[1, -1, 2], [-2, 3, -3]])\n",
        "y = np.array([[3, -2, 4], [-5, 1, -2]])\n",
        "naive_add(x, y)"
      ]
    },
    {
      "cell_type": "code",
      "execution_count": 41,
      "metadata": {
        "colab": {
          "base_uri": "https://localhost:8080/"
        },
        "id": "dIhrwJf0Bjf4",
        "outputId": "51037ba8-65c1-496a-d467-3c07fe0ced52"
      },
      "outputs": [
        {
          "name": "stdout",
          "output_type": "stream",
          "text": [
            "Took: 10.49 s\n"
          ]
        }
      ],
      "source": [
        "import time\n",
        "t0 = time.time()\n",
        "for _ in range(10000):\n",
        "    z = naive_add(x, y)\n",
        "    z = naive_relu(z)\n",
        "print(\"Took: {0:.2f} s\".format(time.time() - t0))"
      ]
    },
    {
      "attachments": {},
      "cell_type": "markdown",
      "metadata": {
        "id": "bQ65rehdBxAN"
      },
      "source": [
        "### 用numpy建立一個relu"
      ]
    },
    {
      "cell_type": "code",
      "execution_count": 39,
      "metadata": {
        "colab": {
          "base_uri": "https://localhost:8080/"
        },
        "id": "1K16VWoLEB_j",
        "outputId": "3f5400ea-aea8-4d82-d63c-bda6df9017e2"
      },
      "outputs": [
        {
          "name": "stdout",
          "output_type": "stream",
          "text": [
            "Took: 0.02 s\n"
          ]
        }
      ],
      "source": [
        "import time\n",
        "import numpy as np\n",
        "\n",
        "x = np.random.random((20, 100))\n",
        "y = np.random.random((20, 100))\n",
        "\n",
        "t0 = time.time()\n",
        "for _ in range(10000):\n",
        "    z = x + y\n",
        "    z = np.maximum(z, 0.)\n",
        "print(\"Took: {0:.2f} s\".format(time.time() - t0))"
      ]
    },
    {
      "attachments": {},
      "cell_type": "markdown",
      "metadata": {
        "id": "6zbXqL_-EB_k"
      },
      "source": [
        "### 張量擴張 (Broadcasting)"
      ]
    },
    {
      "cell_type": "code",
      "execution_count": 51,
      "metadata": {
        "id": "L-Zbnd5HEB_k"
      },
      "outputs": [
        {
          "name": "stdout",
          "output_type": "stream",
          "text": [
            "(32, 10)\n"
          ]
        }
      ],
      "source": [
        "import numpy as np\n",
        "X = np.random.random((32, 10))\n",
        "y = np.random.random((10,))\n"
      ]
    },
    {
      "cell_type": "code",
      "execution_count": 52,
      "metadata": {
        "id": "E5AitC1EEB_k"
      },
      "outputs": [],
      "source": [
        "y = np.expand_dims(y, axis=0)"
      ]
    },
    {
      "cell_type": "code",
      "execution_count": 53,
      "metadata": {
        "id": "jXGXgH_cEB_k"
      },
      "outputs": [],
      "source": [
        "Y = np.concatenate([y] * 32, axis=0)"
      ]
    },
    {
      "cell_type": "code",
      "execution_count": 54,
      "metadata": {
        "id": "wgDcfZy3EB_l"
      },
      "outputs": [],
      "source": [
        "def naive_add_matrix_and_vector(x, y):\n",
        "    assert len(x.shape) == 2\n",
        "    assert len(y.shape) == 1\n",
        "    assert x.shape[1] == y.shape[0]\n",
        "    x = x.copy()\n",
        "    for i in range(x.shape[0]):\n",
        "        for j in range(x.shape[1]):\n",
        "            x[i, j] += y[j]\n",
        "    return x"
      ]
    },
    {
      "cell_type": "code",
      "execution_count": 48,
      "metadata": {
        "colab": {
          "base_uri": "https://localhost:8080/"
        },
        "id": "PTaosx9aEB_l",
        "outputId": "5110f648-9cfd-46d4-aa66-389b3e9f7c97"
      },
      "outputs": [
        {
          "data": {
            "text/plain": [
              "(64, 3, 32, 10)"
            ]
          },
          "execution_count": 48,
          "metadata": {},
          "output_type": "execute_result"
        }
      ],
      "source": [
        "import numpy as np\n",
        "x = np.random.random((64, 3, 32, 10))\n",
        "y = np.random.random((32, 10))\n",
        "z = np.maximum(x, y)\n",
        "z.shape"
      ]
    },
    {
      "attachments": {},
      "cell_type": "markdown",
      "metadata": {
        "id": "MI4h03l6EB_m"
      },
      "source": [
        "### 張量點積運算"
      ]
    },
    {
      "cell_type": "code",
      "execution_count": null,
      "metadata": {
        "colab": {
          "base_uri": "https://localhost:8080/"
        },
        "id": "fRmZKFqvEB_m",
        "outputId": "8074510d-dd42-4f40-8812-f6432b04a9c0"
      },
      "outputs": [
        {
          "name": "stdout",
          "output_type": "stream",
          "text": [
            "(32, 16)\n"
          ]
        }
      ],
      "source": [
        "x = np.random.random((32,2))\n",
        "y = np.random.random((2,16))\n",
        "z = np.dot(x, y)\n",
        "print(z.shape)"
      ]
    },
    {
      "cell_type": "code",
      "execution_count": null,
      "metadata": {
        "id": "kJJVA1lYEB_m"
      },
      "outputs": [],
      "source": [
        "def naive_vector_dot(x, y):\n",
        "    assert len(x.shape) == 1\n",
        "    assert len(y.shape) == 1\n",
        "    assert x.shape[0] == y.shape[0]\n",
        "    z = 0.\n",
        "    for i in range(x.shape[0]):\n",
        "        z += x[i] * y[i]\n",
        "    return z"
      ]
    },
    {
      "cell_type": "code",
      "execution_count": null,
      "metadata": {
        "id": "mRVtNaouEB_n"
      },
      "outputs": [],
      "source": [
        "def naive_matrix_vector_dot(x, y):\n",
        "    assert len(x.shape) == 2\n",
        "    assert len(y.shape) == 1\n",
        "    assert x.shape[1] == y.shape[0]\n",
        "    z = np.zeros(x.shape[0])\n",
        "    for i in range(x.shape[0]):\n",
        "        for j in range(x.shape[1]):\n",
        "            z[i] += x[i, j] * y[j]\n",
        "    return z"
      ]
    },
    {
      "cell_type": "code",
      "execution_count": null,
      "metadata": {
        "id": "4RqXBIyJEB_n"
      },
      "outputs": [],
      "source": [
        "def naive_matrix_vector_dot(x, y):\n",
        "    z = np.zeros(x.shape[0])\n",
        "    for i in range(x.shape[0]):\n",
        "        z[i] = naive_vector_dot(x[i, :], y)\n",
        "    return z"
      ]
    },
    {
      "cell_type": "code",
      "execution_count": null,
      "metadata": {
        "id": "L11dGUrREB_n"
      },
      "outputs": [],
      "source": [
        "def naive_matrix_dot(x, y):\n",
        "    assert len(x.shape) == 2\n",
        "    assert len(y.shape) == 2\n",
        "    assert x.shape[1] == y.shape[0]\n",
        "    z = np.zeros((x.shape[0], y.shape[1]))\n",
        "    for i in range(x.shape[0]):\n",
        "        for j in range(y.shape[1]):\n",
        "            row_x = x[i, :]\n",
        "            column_y = y[:, j]\n",
        "            z[i, j] = naive_vector_dot(row_x, column_y)\n",
        "    return z"
      ]
    },
    {
      "attachments": {},
      "cell_type": "markdown",
      "metadata": {
        "id": "rnPmUD6sEB_n"
      },
      "source": [
        "### 張量重塑"
      ]
    },
    {
      "cell_type": "code",
      "execution_count": 56,
      "metadata": {
        "id": "jZxCIA3hEB_o"
      },
      "outputs": [
        {
          "name": "stdout",
          "output_type": "stream",
          "text": [
            "(60000, 784)\n"
          ]
        }
      ],
      "source": [
        "train_images = train_images.reshape((60000, 28 * 28))\n",
        "print(train_images.shape)"
      ]
    },
    {
      "cell_type": "code",
      "execution_count": 57,
      "metadata": {
        "colab": {
          "base_uri": "https://localhost:8080/"
        },
        "id": "tt3o3XiJEB_o",
        "outputId": "f0166eeb-2bb8-4492-d647-9fac38e19e22"
      },
      "outputs": [
        {
          "data": {
            "text/plain": [
              "(3, 2)"
            ]
          },
          "execution_count": 57,
          "metadata": {},
          "output_type": "execute_result"
        }
      ],
      "source": [
        "x = np.array([[0., 1.],\n",
        "        [2., 3.],\n",
        "        [4., 5.]])\n",
        "x.shape"
      ]
    },
    {
      "cell_type": "code",
      "execution_count": 58,
      "metadata": {
        "colab": {
          "base_uri": "https://localhost:8080/"
        },
        "id": "72vlCGd2EB_o",
        "outputId": "1efc090b-fc12-4444-db68-eb66363124aa"
      },
      "outputs": [
        {
          "data": {
            "text/plain": [
              "array([[0.],\n",
              "       [1.],\n",
              "       [2.],\n",
              "       [3.],\n",
              "       [4.],\n",
              "       [5.]])"
            ]
          },
          "execution_count": 58,
          "metadata": {},
          "output_type": "execute_result"
        }
      ],
      "source": [
        "x = x.reshape((6, 1))\n",
        "x"
      ]
    },
    {
      "cell_type": "code",
      "execution_count": 59,
      "metadata": {
        "colab": {
          "base_uri": "https://localhost:8080/"
        },
        "id": "9UtKGPHIEB_o",
        "outputId": "20d5fdb5-bb74-47c9-ac77-1afd2b42e629"
      },
      "outputs": [
        {
          "data": {
            "text/plain": [
              "(20, 300)"
            ]
          },
          "execution_count": 59,
          "metadata": {},
          "output_type": "execute_result"
        }
      ],
      "source": [
        "x = np.zeros((300, 20))\n",
        "x = np.transpose(x)\n",
        "x.shape"
      ]
    },
    {
      "attachments": {},
      "cell_type": "markdown",
      "metadata": {
        "id": "Gv0qB0bhEB_p"
      },
      "source": [
        "## 神經網路的引擎：以梯度為基礎的最佳化"
      ]
    },
    {
      "attachments": {},
      "cell_type": "markdown",
      "metadata": {
        "id": "srqC1XicEB_q"
      },
      "source": [
        "### 連鎖導數：反向傳播 Backpropagation 演算法"
      ]
    },
    {
      "cell_type": "code",
      "execution_count": 66,
      "metadata": {
        "id": "IRnx4R8GEB_r"
      },
      "outputs": [
        {
          "name": "stdout",
          "output_type": "stream",
          "text": [
            "4.0\n"
          ]
        }
      ],
      "source": [
        "import tensorflow as tf\n",
        "x = tf.Variable(0.) # 實例化一個純量其初始值為0\n",
        "with tf.GradientTape() as tape: # 宣告Gradient tape運作的範圍\n",
        "    y = 4 * x  + 3 # 在作用範圍內對張量進行操作\n",
        "    # y' = 4\n",
        "grad_of_y_wrt_x = tape.gradient(y, x) # 求變數的梯度\n",
        "print(grad_of_y_wrt_x.numpy()) # 輸出梯度值"
      ]
    },
    {
      "cell_type": "code",
      "execution_count": 69,
      "metadata": {
        "colab": {
          "base_uri": "https://localhost:8080/"
        },
        "id": "xruLZv7kEB_r",
        "outputId": "b7ac9480-caef-4003-9432-f9dacab0aad0"
      },
      "outputs": [
        {
          "name": "stdout",
          "output_type": "stream",
          "text": [
            "(2, 2)\n",
            "tf.Tensor(\n",
            "[[5. 5.]\n",
            " [5. 5.]], shape=(2, 2), dtype=float32)\n"
          ]
        }
      ],
      "source": [
        "# 在張量上操作\n",
        "\n",
        "x = tf.Variable(tf.random.uniform((2, 2)))\n",
        "print(x.shape)\n",
        "with tf.GradientTape() as tape:\n",
        "    y = 5 * x + 3\n",
        "grad_of_y_wrt_x = tape.gradient(y, x)\n",
        "print(grad_of_y_wrt_x)"
      ]
    },
    {
      "cell_type": "code",
      "execution_count": null,
      "metadata": {
        "id": "pvPpSPeNEB_r"
      },
      "outputs": [],
      "source": [
        "# 進行點積操作並求gradient\n",
        "\n",
        "W = tf.Variable(tf.random.uniform((2, 2)))\n",
        "b = tf.Variable(tf.zeros((2,)))\n",
        "x = tf.random.uniform((2, 2))\n",
        "with tf.GradientTape() as tape:\n",
        "    y = tf.matmul(x, W) + b\n",
        "grad_of_y_wrt_W_and_b = tape.gradient(y, [W, b])"
      ]
    },
    {
      "attachments": {},
      "cell_type": "markdown",
      "metadata": {
        "id": "MWFEwGsBEB_r"
      },
      "source": [
        "## 手刻一個神經網路\n",
        "\n"
      ]
    },
    {
      "cell_type": "code",
      "execution_count": 70,
      "metadata": {
        "id": "34n4Bxi7EB_s"
      },
      "outputs": [],
      "source": [
        "(train_images, train_labels), (test_images, test_labels) = mnist.load_data()\n",
        "train_images = train_images.reshape((60000, 28 * 28))\n",
        "train_images = train_images.astype(\"float32\") / 255\n",
        "test_images = test_images.reshape((10000, 28 * 28))\n",
        "test_images = test_images.astype(\"float32\") / 255"
      ]
    },
    {
      "cell_type": "code",
      "execution_count": 73,
      "metadata": {
        "id": "btPLnuGKEB_s"
      },
      "outputs": [],
      "source": [
        "from tensorflow import keras\n",
        "from tensorflow.keras import layers\n",
        "model = keras.Sequential([\n",
        "    layers.Dense(512, activation=\"relu\"),\n",
        "    layers.Dense(10, activation=\"softmax\")\n",
        "])"
      ]
    },
    {
      "cell_type": "code",
      "execution_count": 78,
      "metadata": {
        "id": "euHQ7m_xEB_s"
      },
      "outputs": [],
      "source": [
        "model.compile(optimizer=\"rmsprop\",\n",
        "       loss=\"sparse_categorical_crossentropy\",\n",
        "       metrics=[\"accuracy\"])"
      ]
    },
    {
      "cell_type": "code",
      "execution_count": 75,
      "metadata": {
        "id": "202wY7VnEB_s"
      },
      "outputs": [
        {
          "name": "stdout",
          "output_type": "stream",
          "text": [
            "Epoch 1/5\n",
            "469/469 [==============================] - 3s 2ms/step - loss: 0.2547 - accuracy: 0.9263\n",
            "Epoch 2/5\n",
            "469/469 [==============================] - 1s 1ms/step - loss: 0.1027 - accuracy: 0.9690\n",
            "Epoch 3/5\n",
            "469/469 [==============================] - 1s 1ms/step - loss: 0.0674 - accuracy: 0.9796\n",
            "Epoch 4/5\n",
            "469/469 [==============================] - 1s 1ms/step - loss: 0.0505 - accuracy: 0.9850\n",
            "Epoch 5/5\n",
            "469/469 [==============================] - 1s 1ms/step - loss: 0.0379 - accuracy: 0.9887\n"
          ]
        },
        {
          "data": {
            "text/plain": [
              "<keras.callbacks.History at 0x2c7940cba90>"
            ]
          },
          "execution_count": 75,
          "metadata": {},
          "output_type": "execute_result"
        }
      ],
      "source": [
        "model.fit(train_images, train_labels, epochs=5, batch_size=128)"
      ]
    },
    {
      "cell_type": "code",
      "execution_count": 80,
      "metadata": {},
      "outputs": [
        {
          "name": "stdout",
          "output_type": "stream",
          "text": [
            "Accuracy: 0.98\n"
          ]
        }
      ],
      "source": [
        "import numpy as np \n",
        "predictions = model(test_images)\n",
        "predictions = predictions.numpy()\n",
        "predicted_labels = np.argmax(predictions, axis=1)\n",
        "matches = predicted_labels == test_labels\n",
        "print(f\"Accuracy: {matches.mean():.2f}\")"
      ]
    },
    {
      "attachments": {},
      "cell_type": "markdown",
      "metadata": {
        "id": "GhId3BLaEB_t"
      },
      "source": [
        "## 從頭開始重新建構模型"
      ]
    },
    {
      "cell_type": "code",
      "execution_count": null,
      "metadata": {
        "id": "2ZYE8rmOEB_v"
      },
      "outputs": [],
      "source": [
        "import tensorflow as tf\n",
        "\n",
        "class NaiveDense:\n",
        "    def __init__(self, input_size, output_size, activation):\n",
        "        self.activation = activation\n",
        "\n",
        "        w_shape = (input_size, output_size)\n",
        "        w_initial_value = tf.random.uniform(w_shape, minval=0, maxval=1e-1)\n",
        "        self.W = tf.Variable(w_initial_value)\n",
        "\n",
        "        b_shape = (output_size,)\n",
        "        b_initial_value = tf.zeros(b_shape)\n",
        "        self.b = tf.Variable(b_initial_value)\n",
        "\n",
        "    def __call__(self, inputs):\n",
        "        return self.activation(tf.matmul(inputs, self.W) + self.b)\n",
        "\n",
        "    @property\n",
        "    def weights(self):\n",
        "        return [self.W, self.b]"
      ]
    },
    {
      "cell_type": "code",
      "execution_count": null,
      "metadata": {
        "id": "N3aW7h4VEB_v"
      },
      "outputs": [],
      "source": [
        "class NaiveSequential:\n",
        "    def __init__(self, layers):\n",
        "        self.layers = layers\n",
        "\n",
        "    def __call__(self, inputs):\n",
        "        x = inputs\n",
        "        for layer in self.layers:\n",
        "           x = layer(x)\n",
        "        return x\n",
        "\n",
        "    @property\n",
        "    def weights(self):\n",
        "       weights = []\n",
        "       for layer in self.layers:\n",
        "           weights += layer.weights\n",
        "       return weights"
      ]
    },
    {
      "cell_type": "code",
      "execution_count": null,
      "metadata": {
        "id": "3DhNl-t1EB_w"
      },
      "outputs": [],
      "source": [
        "model = NaiveSequential([\n",
        "    NaiveDense(input_size=28 * 28, output_size=512, activation=tf.nn.relu),\n",
        "    NaiveDense(input_size=512, output_size=10, activation=tf.nn.softmax)\n",
        "])\n",
        "assert len(model.weights) == 4"
      ]
    },
    {
      "cell_type": "code",
      "execution_count": null,
      "metadata": {
        "id": "Y9jQsfhEEB_w"
      },
      "outputs": [],
      "source": [
        "import math\n",
        "\n",
        "class BatchGenerator:\n",
        "    def __init__(self, images, labels, batch_size=128):\n",
        "        assert len(images) == len(labels)\n",
        "        self.index = 0\n",
        "        self.images = images\n",
        "        self.labels = labels\n",
        "        self.batch_size = batch_size\n",
        "        self.num_batches = math.ceil(len(images) / batch_size)\n",
        "\n",
        "    def next(self):\n",
        "        images = self.images[self.index : self.index + self.batch_size]\n",
        "        labels = self.labels[self.index : self.index + self.batch_size]\n",
        "        self.index += self.batch_size\n",
        "        return images, labels"
      ]
    },
    {
      "attachments": {},
      "cell_type": "markdown",
      "metadata": {
        "id": "stvm8hhJEB_w"
      },
      "source": [
        "### 執行單次的訓練"
      ]
    },
    {
      "cell_type": "code",
      "execution_count": null,
      "metadata": {
        "id": "8Rn_mhvUEB_w"
      },
      "outputs": [],
      "source": [
        "def one_training_step(model, images_batch, labels_batch):\n",
        "    with tf.GradientTape() as tape:\n",
        "        predictions = model(images_batch)\n",
        "        per_sample_losses = tf.keras.losses.sparse_categorical_crossentropy(\n",
        "            labels_batch, predictions)\n",
        "        average_loss = tf.reduce_mean(per_sample_losses)\n",
        "    gradients = tape.gradient(average_loss, model.weights)\n",
        "    update_weights(gradients, model.weights)\n",
        "    return average_loss"
      ]
    },
    {
      "cell_type": "code",
      "execution_count": null,
      "metadata": {
        "id": "tXsQVvk6EB_x"
      },
      "outputs": [],
      "source": [
        "learning_rate = 1e-3\n",
        "\n",
        "def update_weights(gradients, weights):\n",
        "    for g, w in zip(gradients, weights):\n",
        "        w.assign_sub(g * learning_rate)"
      ]
    },
    {
      "cell_type": "code",
      "execution_count": null,
      "metadata": {
        "id": "pI4Z4K-PEB_x"
      },
      "outputs": [],
      "source": [
        "from tensorflow.keras import optimizers\n",
        "\n",
        "optimizer = optimizers.SGD(learning_rate=1e-3)\n",
        "\n",
        "def update_weights(gradients, weights):\n",
        "    optimizer.apply_gradients(zip(gradients, weights))"
      ]
    },
    {
      "attachments": {},
      "cell_type": "markdown",
      "metadata": {
        "id": "qLJWkfYkEB_x"
      },
      "source": [
        "### 完整的訓練循環"
      ]
    },
    {
      "cell_type": "code",
      "execution_count": null,
      "metadata": {
        "id": "uI8KL6lbEB_x"
      },
      "outputs": [],
      "source": [
        "def fit(model, images, labels, epochs, batch_size=128):\n",
        "    for epoch_counter in range(epochs):\n",
        "        print(f\"Epoch {epoch_counter}\")\n",
        "        batch_generator = BatchGenerator(images, labels)\n",
        "        for batch_counter in range(batch_generator.num_batches):\n",
        "            images_batch, labels_batch = batch_generator.next()\n",
        "            loss = one_training_step(model, images_batch, labels_batch)\n",
        "            if batch_counter % 100 == 0:\n",
        "                print(f\"loss at batch {batch_counter}: {loss:.2f}\")"
      ]
    },
    {
      "cell_type": "code",
      "execution_count": null,
      "metadata": {
        "id": "ITe8HSqGEB_y",
        "outputId": "bb01a4c9-2ad3-491e-d681-4040c6dd4864"
      },
      "outputs": [
        {
          "name": "stdout",
          "output_type": "stream",
          "text": [
            "Epoch 0\n",
            "loss at batch 0: 0.44\n",
            "loss at batch 100: 0.43\n",
            "loss at batch 200: 0.38\n",
            "loss at batch 300: 0.46\n",
            "loss at batch 400: 0.55\n",
            "Epoch 1\n",
            "loss at batch 0: 0.44\n",
            "loss at batch 100: 0.42\n",
            "loss at batch 200: 0.37\n",
            "loss at batch 300: 0.45\n",
            "loss at batch 400: 0.54\n",
            "Epoch 2\n",
            "loss at batch 0: 0.43\n",
            "loss at batch 100: 0.41\n",
            "loss at batch 200: 0.36\n",
            "loss at batch 300: 0.44\n",
            "loss at batch 400: 0.54\n",
            "Epoch 3\n",
            "loss at batch 0: 0.42\n",
            "loss at batch 100: 0.40\n",
            "loss at batch 200: 0.35\n",
            "loss at batch 300: 0.43\n",
            "loss at batch 400: 0.53\n",
            "Epoch 4\n",
            "loss at batch 0: 0.41\n",
            "loss at batch 100: 0.39\n",
            "loss at batch 200: 0.35\n",
            "loss at batch 300: 0.43\n",
            "loss at batch 400: 0.53\n",
            "Epoch 5\n",
            "loss at batch 0: 0.40\n",
            "loss at batch 100: 0.39\n",
            "loss at batch 200: 0.34\n",
            "loss at batch 300: 0.42\n",
            "loss at batch 400: 0.52\n",
            "Epoch 6\n",
            "loss at batch 0: 0.40\n",
            "loss at batch 100: 0.38\n",
            "loss at batch 200: 0.33\n",
            "loss at batch 300: 0.41\n",
            "loss at batch 400: 0.52\n",
            "Epoch 7\n",
            "loss at batch 0: 0.39\n",
            "loss at batch 100: 0.37\n",
            "loss at batch 200: 0.33\n",
            "loss at batch 300: 0.41\n",
            "loss at batch 400: 0.51\n",
            "Epoch 8\n",
            "loss at batch 0: 0.39\n",
            "loss at batch 100: 0.36\n",
            "loss at batch 200: 0.32\n",
            "loss at batch 300: 0.40\n",
            "loss at batch 400: 0.51\n",
            "Epoch 9\n",
            "loss at batch 0: 0.38\n",
            "loss at batch 100: 0.36\n",
            "loss at batch 200: 0.32\n",
            "loss at batch 300: 0.40\n",
            "loss at batch 400: 0.50\n",
            "Epoch 10\n",
            "loss at batch 0: 0.38\n",
            "loss at batch 100: 0.35\n",
            "loss at batch 200: 0.31\n",
            "loss at batch 300: 0.39\n",
            "loss at batch 400: 0.50\n",
            "Epoch 11\n",
            "loss at batch 0: 0.37\n",
            "loss at batch 100: 0.35\n",
            "loss at batch 200: 0.31\n",
            "loss at batch 300: 0.39\n",
            "loss at batch 400: 0.50\n",
            "Epoch 12\n",
            "loss at batch 0: 0.37\n",
            "loss at batch 100: 0.34\n",
            "loss at batch 200: 0.31\n",
            "loss at batch 300: 0.39\n",
            "loss at batch 400: 0.49\n",
            "Epoch 13\n",
            "loss at batch 0: 0.36\n",
            "loss at batch 100: 0.34\n",
            "loss at batch 200: 0.30\n",
            "loss at batch 300: 0.38\n",
            "loss at batch 400: 0.49\n",
            "Epoch 14\n",
            "loss at batch 0: 0.36\n",
            "loss at batch 100: 0.33\n",
            "loss at batch 200: 0.30\n",
            "loss at batch 300: 0.38\n",
            "loss at batch 400: 0.49\n",
            "Epoch 15\n",
            "loss at batch 0: 0.36\n",
            "loss at batch 100: 0.33\n",
            "loss at batch 200: 0.30\n",
            "loss at batch 300: 0.38\n",
            "loss at batch 400: 0.48\n",
            "Epoch 16\n",
            "loss at batch 0: 0.35\n",
            "loss at batch 100: 0.33\n",
            "loss at batch 200: 0.29\n",
            "loss at batch 300: 0.37\n",
            "loss at batch 400: 0.48\n",
            "Epoch 17\n",
            "loss at batch 0: 0.35\n",
            "loss at batch 100: 0.32\n",
            "loss at batch 200: 0.29\n",
            "loss at batch 300: 0.37\n",
            "loss at batch 400: 0.48\n",
            "Epoch 18\n",
            "loss at batch 0: 0.35\n",
            "loss at batch 100: 0.32\n",
            "loss at batch 200: 0.29\n",
            "loss at batch 300: 0.37\n",
            "loss at batch 400: 0.47\n",
            "Epoch 19\n",
            "loss at batch 0: 0.34\n",
            "loss at batch 100: 0.31\n",
            "loss at batch 200: 0.29\n",
            "loss at batch 300: 0.36\n",
            "loss at batch 400: 0.47\n",
            "Epoch 20\n",
            "loss at batch 0: 0.34\n",
            "loss at batch 100: 0.31\n",
            "loss at batch 200: 0.28\n",
            "loss at batch 300: 0.36\n",
            "loss at batch 400: 0.47\n",
            "Epoch 21\n",
            "loss at batch 0: 0.34\n",
            "loss at batch 100: 0.31\n",
            "loss at batch 200: 0.28\n",
            "loss at batch 300: 0.36\n",
            "loss at batch 400: 0.47\n",
            "Epoch 22\n",
            "loss at batch 0: 0.33\n",
            "loss at batch 100: 0.31\n",
            "loss at batch 200: 0.28\n",
            "loss at batch 300: 0.36\n",
            "loss at batch 400: 0.47\n",
            "Epoch 23\n",
            "loss at batch 0: 0.33\n",
            "loss at batch 100: 0.30\n",
            "loss at batch 200: 0.28\n",
            "loss at batch 300: 0.35\n",
            "loss at batch 400: 0.46\n",
            "Epoch 24\n",
            "loss at batch 0: 0.33\n",
            "loss at batch 100: 0.30\n",
            "loss at batch 200: 0.28\n",
            "loss at batch 300: 0.35\n",
            "loss at batch 400: 0.46\n",
            "Epoch 25\n",
            "loss at batch 0: 0.33\n",
            "loss at batch 100: 0.30\n",
            "loss at batch 200: 0.27\n",
            "loss at batch 300: 0.35\n",
            "loss at batch 400: 0.46\n",
            "Epoch 26\n",
            "loss at batch 0: 0.32\n",
            "loss at batch 100: 0.29\n",
            "loss at batch 200: 0.27\n",
            "loss at batch 300: 0.35\n",
            "loss at batch 400: 0.46\n",
            "Epoch 27\n",
            "loss at batch 0: 0.32\n",
            "loss at batch 100: 0.29\n",
            "loss at batch 200: 0.27\n",
            "loss at batch 300: 0.35\n",
            "loss at batch 400: 0.46\n",
            "Epoch 28\n",
            "loss at batch 0: 0.32\n",
            "loss at batch 100: 0.29\n",
            "loss at batch 200: 0.27\n",
            "loss at batch 300: 0.35\n",
            "loss at batch 400: 0.45\n",
            "Epoch 29\n",
            "loss at batch 0: 0.32\n",
            "loss at batch 100: 0.29\n",
            "loss at batch 200: 0.27\n",
            "loss at batch 300: 0.34\n",
            "loss at batch 400: 0.45\n",
            "Epoch 30\n",
            "loss at batch 0: 0.32\n",
            "loss at batch 100: 0.29\n",
            "loss at batch 200: 0.27\n",
            "loss at batch 300: 0.34\n",
            "loss at batch 400: 0.45\n",
            "Epoch 31\n",
            "loss at batch 0: 0.31\n",
            "loss at batch 100: 0.28\n",
            "loss at batch 200: 0.26\n",
            "loss at batch 300: 0.34\n",
            "loss at batch 400: 0.45\n",
            "Epoch 32\n",
            "loss at batch 0: 0.31\n",
            "loss at batch 100: 0.28\n",
            "loss at batch 200: 0.26\n",
            "loss at batch 300: 0.34\n",
            "loss at batch 400: 0.45\n",
            "Epoch 33\n",
            "loss at batch 0: 0.31\n",
            "loss at batch 100: 0.28\n",
            "loss at batch 200: 0.26\n",
            "loss at batch 300: 0.34\n",
            "loss at batch 400: 0.44\n",
            "Epoch 34\n",
            "loss at batch 0: 0.31\n",
            "loss at batch 100: 0.28\n",
            "loss at batch 200: 0.26\n",
            "loss at batch 300: 0.34\n",
            "loss at batch 400: 0.44\n",
            "Epoch 35\n",
            "loss at batch 0: 0.31\n",
            "loss at batch 100: 0.28\n",
            "loss at batch 200: 0.26\n",
            "loss at batch 300: 0.33\n",
            "loss at batch 400: 0.44\n",
            "Epoch 36\n",
            "loss at batch 0: 0.30\n",
            "loss at batch 100: 0.27\n",
            "loss at batch 200: 0.26\n",
            "loss at batch 300: 0.33\n",
            "loss at batch 400: 0.44\n",
            "Epoch 37\n",
            "loss at batch 0: 0.30\n",
            "loss at batch 100: 0.27\n",
            "loss at batch 200: 0.26\n",
            "loss at batch 300: 0.33\n",
            "loss at batch 400: 0.44\n",
            "Epoch 38\n",
            "loss at batch 0: 0.30\n",
            "loss at batch 100: 0.27\n",
            "loss at batch 200: 0.26\n",
            "loss at batch 300: 0.33\n",
            "loss at batch 400: 0.44\n",
            "Epoch 39\n",
            "loss at batch 0: 0.30\n",
            "loss at batch 100: 0.27\n",
            "loss at batch 200: 0.25\n",
            "loss at batch 300: 0.33\n",
            "loss at batch 400: 0.44\n",
            "Epoch 40\n",
            "loss at batch 0: 0.30\n",
            "loss at batch 100: 0.27\n",
            "loss at batch 200: 0.25\n",
            "loss at batch 300: 0.33\n",
            "loss at batch 400: 0.43\n",
            "Epoch 41\n",
            "loss at batch 0: 0.30\n",
            "loss at batch 100: 0.27\n",
            "loss at batch 200: 0.25\n",
            "loss at batch 300: 0.33\n",
            "loss at batch 400: 0.43\n",
            "Epoch 42\n",
            "loss at batch 0: 0.29\n",
            "loss at batch 100: 0.26\n",
            "loss at batch 200: 0.25\n",
            "loss at batch 300: 0.33\n",
            "loss at batch 400: 0.43\n",
            "Epoch 43\n",
            "loss at batch 0: 0.29\n",
            "loss at batch 100: 0.26\n",
            "loss at batch 200: 0.25\n",
            "loss at batch 300: 0.33\n",
            "loss at batch 400: 0.43\n",
            "Epoch 44\n",
            "loss at batch 0: 0.29\n",
            "loss at batch 100: 0.26\n",
            "loss at batch 200: 0.25\n",
            "loss at batch 300: 0.32\n",
            "loss at batch 400: 0.43\n",
            "Epoch 45\n",
            "loss at batch 0: 0.29\n",
            "loss at batch 100: 0.26\n",
            "loss at batch 200: 0.25\n",
            "loss at batch 300: 0.32\n",
            "loss at batch 400: 0.43\n",
            "Epoch 46\n",
            "loss at batch 0: 0.29\n",
            "loss at batch 100: 0.26\n",
            "loss at batch 200: 0.25\n",
            "loss at batch 300: 0.32\n",
            "loss at batch 400: 0.43\n",
            "Epoch 47\n",
            "loss at batch 0: 0.29\n",
            "loss at batch 100: 0.26\n",
            "loss at batch 200: 0.25\n",
            "loss at batch 300: 0.32\n",
            "loss at batch 400: 0.43\n",
            "Epoch 48\n",
            "loss at batch 0: 0.29\n",
            "loss at batch 100: 0.26\n",
            "loss at batch 200: 0.25\n",
            "loss at batch 300: 0.32\n",
            "loss at batch 400: 0.42\n",
            "Epoch 49\n",
            "loss at batch 0: 0.28\n",
            "loss at batch 100: 0.26\n",
            "loss at batch 200: 0.25\n",
            "loss at batch 300: 0.32\n",
            "loss at batch 400: 0.42\n",
            "Epoch 50\n",
            "loss at batch 0: 0.28\n",
            "loss at batch 100: 0.25\n",
            "loss at batch 200: 0.24\n",
            "loss at batch 300: 0.32\n",
            "loss at batch 400: 0.42\n",
            "Epoch 51\n",
            "loss at batch 0: 0.28\n",
            "loss at batch 100: 0.25\n",
            "loss at batch 200: 0.24\n",
            "loss at batch 300: 0.32\n",
            "loss at batch 400: 0.42\n",
            "Epoch 52\n",
            "loss at batch 0: 0.28\n",
            "loss at batch 100: 0.25\n",
            "loss at batch 200: 0.24\n",
            "loss at batch 300: 0.32\n",
            "loss at batch 400: 0.42\n",
            "Epoch 53\n",
            "loss at batch 0: 0.28\n",
            "loss at batch 100: 0.25\n",
            "loss at batch 200: 0.24\n",
            "loss at batch 300: 0.32\n",
            "loss at batch 400: 0.42\n",
            "Epoch 54\n",
            "loss at batch 0: 0.28\n",
            "loss at batch 100: 0.25\n",
            "loss at batch 200: 0.24\n",
            "loss at batch 300: 0.32\n",
            "loss at batch 400: 0.42\n",
            "Epoch 55\n",
            "loss at batch 0: 0.28\n",
            "loss at batch 100: 0.25\n",
            "loss at batch 200: 0.24\n",
            "loss at batch 300: 0.32\n",
            "loss at batch 400: 0.42\n",
            "Epoch 56\n",
            "loss at batch 0: 0.28\n",
            "loss at batch 100: 0.25\n",
            "loss at batch 200: 0.24\n",
            "loss at batch 300: 0.32\n",
            "loss at batch 400: 0.42\n",
            "Epoch 57\n",
            "loss at batch 0: 0.28\n",
            "loss at batch 100: 0.25\n",
            "loss at batch 200: 0.24\n",
            "loss at batch 300: 0.31\n",
            "loss at batch 400: 0.42\n",
            "Epoch 58\n",
            "loss at batch 0: 0.27\n",
            "loss at batch 100: 0.25\n",
            "loss at batch 200: 0.24\n",
            "loss at batch 300: 0.31\n",
            "loss at batch 400: 0.41\n",
            "Epoch 59\n",
            "loss at batch 0: 0.27\n",
            "loss at batch 100: 0.25\n",
            "loss at batch 200: 0.24\n",
            "loss at batch 300: 0.31\n",
            "loss at batch 400: 0.41\n",
            "Epoch 60\n",
            "loss at batch 0: 0.27\n",
            "loss at batch 100: 0.24\n",
            "loss at batch 200: 0.24\n",
            "loss at batch 300: 0.31\n",
            "loss at batch 400: 0.41\n",
            "Epoch 61\n",
            "loss at batch 0: 0.27\n",
            "loss at batch 100: 0.24\n",
            "loss at batch 200: 0.24\n",
            "loss at batch 300: 0.31\n",
            "loss at batch 400: 0.41\n",
            "Epoch 62\n",
            "loss at batch 0: 0.27\n",
            "loss at batch 100: 0.24\n",
            "loss at batch 200: 0.24\n",
            "loss at batch 300: 0.31\n",
            "loss at batch 400: 0.41\n",
            "Epoch 63\n",
            "loss at batch 0: 0.27\n",
            "loss at batch 100: 0.24\n",
            "loss at batch 200: 0.24\n",
            "loss at batch 300: 0.31\n",
            "loss at batch 400: 0.41\n",
            "Epoch 64\n",
            "loss at batch 0: 0.27\n",
            "loss at batch 100: 0.24\n",
            "loss at batch 200: 0.24\n",
            "loss at batch 300: 0.31\n",
            "loss at batch 400: 0.41\n",
            "Epoch 65\n",
            "loss at batch 0: 0.27\n",
            "loss at batch 100: 0.24\n",
            "loss at batch 200: 0.23\n",
            "loss at batch 300: 0.31\n",
            "loss at batch 400: 0.41\n",
            "Epoch 66\n",
            "loss at batch 0: 0.27\n",
            "loss at batch 100: 0.24\n",
            "loss at batch 200: 0.23\n",
            "loss at batch 300: 0.31\n",
            "loss at batch 400: 0.41\n",
            "Epoch 67\n",
            "loss at batch 0: 0.26\n",
            "loss at batch 100: 0.24\n",
            "loss at batch 200: 0.23\n",
            "loss at batch 300: 0.31\n",
            "loss at batch 400: 0.41\n",
            "Epoch 68\n",
            "loss at batch 0: 0.26\n",
            "loss at batch 100: 0.24\n",
            "loss at batch 200: 0.23\n",
            "loss at batch 300: 0.31\n",
            "loss at batch 400: 0.41\n",
            "Epoch 69\n",
            "loss at batch 0: 0.26\n",
            "loss at batch 100: 0.24\n",
            "loss at batch 200: 0.23\n",
            "loss at batch 300: 0.31\n",
            "loss at batch 400: 0.41\n",
            "Epoch 70\n",
            "loss at batch 0: 0.26\n",
            "loss at batch 100: 0.24\n",
            "loss at batch 200: 0.23\n",
            "loss at batch 300: 0.31\n",
            "loss at batch 400: 0.40\n",
            "Epoch 71\n",
            "loss at batch 0: 0.26\n",
            "loss at batch 100: 0.24\n",
            "loss at batch 200: 0.23\n",
            "loss at batch 300: 0.31\n",
            "loss at batch 400: 0.40\n",
            "Epoch 72\n",
            "loss at batch 0: 0.26\n",
            "loss at batch 100: 0.23\n",
            "loss at batch 200: 0.23\n",
            "loss at batch 300: 0.31\n",
            "loss at batch 400: 0.40\n",
            "Epoch 73\n",
            "loss at batch 0: 0.26\n",
            "loss at batch 100: 0.23\n",
            "loss at batch 200: 0.23\n",
            "loss at batch 300: 0.31\n",
            "loss at batch 400: 0.40\n",
            "Epoch 74\n",
            "loss at batch 0: 0.26\n",
            "loss at batch 100: 0.23\n",
            "loss at batch 200: 0.23\n",
            "loss at batch 300: 0.30\n",
            "loss at batch 400: 0.40\n",
            "Epoch 75\n",
            "loss at batch 0: 0.26\n",
            "loss at batch 100: 0.23\n",
            "loss at batch 200: 0.23\n",
            "loss at batch 300: 0.30\n",
            "loss at batch 400: 0.40\n",
            "Epoch 76\n",
            "loss at batch 0: 0.26\n",
            "loss at batch 100: 0.23\n",
            "loss at batch 200: 0.23\n",
            "loss at batch 300: 0.30\n",
            "loss at batch 400: 0.40\n",
            "Epoch 77\n",
            "loss at batch 0: 0.26\n",
            "loss at batch 100: 0.23\n",
            "loss at batch 200: 0.23\n",
            "loss at batch 300: 0.30\n",
            "loss at batch 400: 0.40\n",
            "Epoch 78\n",
            "loss at batch 0: 0.26\n",
            "loss at batch 100: 0.23\n",
            "loss at batch 200: 0.23\n",
            "loss at batch 300: 0.30\n",
            "loss at batch 400: 0.40\n",
            "Epoch 79\n",
            "loss at batch 0: 0.25\n",
            "loss at batch 100: 0.23\n",
            "loss at batch 200: 0.23\n",
            "loss at batch 300: 0.30\n",
            "loss at batch 400: 0.40\n",
            "Epoch 80\n",
            "loss at batch 0: 0.25\n",
            "loss at batch 100: 0.23\n",
            "loss at batch 200: 0.23\n",
            "loss at batch 300: 0.30\n",
            "loss at batch 400: 0.40\n",
            "Epoch 81\n",
            "loss at batch 0: 0.25\n",
            "loss at batch 100: 0.23\n",
            "loss at batch 200: 0.23\n",
            "loss at batch 300: 0.30\n",
            "loss at batch 400: 0.40\n",
            "Epoch 82\n",
            "loss at batch 0: 0.25\n",
            "loss at batch 100: 0.23\n",
            "loss at batch 200: 0.23\n",
            "loss at batch 300: 0.30\n",
            "loss at batch 400: 0.40\n",
            "Epoch 83\n",
            "loss at batch 0: 0.25\n",
            "loss at batch 100: 0.23\n",
            "loss at batch 200: 0.23\n",
            "loss at batch 300: 0.30\n",
            "loss at batch 400: 0.40\n",
            "Epoch 84\n",
            "loss at batch 0: 0.25\n",
            "loss at batch 100: 0.23\n",
            "loss at batch 200: 0.23\n",
            "loss at batch 300: 0.30\n",
            "loss at batch 400: 0.39\n",
            "Epoch 85\n",
            "loss at batch 0: 0.25\n",
            "loss at batch 100: 0.23\n",
            "loss at batch 200: 0.23\n",
            "loss at batch 300: 0.30\n",
            "loss at batch 400: 0.39\n",
            "Epoch 86\n",
            "loss at batch 0: 0.25\n",
            "loss at batch 100: 0.23\n",
            "loss at batch 200: 0.23\n",
            "loss at batch 300: 0.30\n",
            "loss at batch 400: 0.39\n",
            "Epoch 87\n",
            "loss at batch 0: 0.25\n",
            "loss at batch 100: 0.23\n",
            "loss at batch 200: 0.23\n",
            "loss at batch 300: 0.30\n",
            "loss at batch 400: 0.39\n",
            "Epoch 88\n",
            "loss at batch 0: 0.25\n",
            "loss at batch 100: 0.23\n",
            "loss at batch 200: 0.23\n",
            "loss at batch 300: 0.30\n",
            "loss at batch 400: 0.39\n",
            "Epoch 89\n",
            "loss at batch 0: 0.25\n",
            "loss at batch 100: 0.23\n",
            "loss at batch 200: 0.23\n",
            "loss at batch 300: 0.30\n",
            "loss at batch 400: 0.39\n",
            "Epoch 90\n",
            "loss at batch 0: 0.25\n",
            "loss at batch 100: 0.22\n",
            "loss at batch 200: 0.23\n",
            "loss at batch 300: 0.30\n",
            "loss at batch 400: 0.39\n",
            "Epoch 91\n",
            "loss at batch 0: 0.25\n",
            "loss at batch 100: 0.22\n",
            "loss at batch 200: 0.23\n",
            "loss at batch 300: 0.30\n",
            "loss at batch 400: 0.39\n",
            "Epoch 92\n",
            "loss at batch 0: 0.24\n",
            "loss at batch 100: 0.22\n",
            "loss at batch 200: 0.22\n",
            "loss at batch 300: 0.30\n",
            "loss at batch 400: 0.39\n",
            "Epoch 93\n",
            "loss at batch 0: 0.24\n",
            "loss at batch 100: 0.22\n",
            "loss at batch 200: 0.22\n",
            "loss at batch 300: 0.30\n",
            "loss at batch 400: 0.39\n",
            "Epoch 94\n",
            "loss at batch 0: 0.24\n",
            "loss at batch 100: 0.22\n",
            "loss at batch 200: 0.22\n",
            "loss at batch 300: 0.30\n",
            "loss at batch 400: 0.39\n",
            "Epoch 95\n",
            "loss at batch 0: 0.24\n",
            "loss at batch 100: 0.22\n",
            "loss at batch 200: 0.22\n",
            "loss at batch 300: 0.30\n",
            "loss at batch 400: 0.39\n",
            "Epoch 96\n",
            "loss at batch 0: 0.24\n",
            "loss at batch 100: 0.22\n",
            "loss at batch 200: 0.22\n",
            "loss at batch 300: 0.30\n",
            "loss at batch 400: 0.39\n",
            "Epoch 97\n",
            "loss at batch 0: 0.24\n",
            "loss at batch 100: 0.22\n",
            "loss at batch 200: 0.22\n",
            "loss at batch 300: 0.30\n",
            "loss at batch 400: 0.39\n",
            "Epoch 98\n",
            "loss at batch 0: 0.24\n",
            "loss at batch 100: 0.22\n",
            "loss at batch 200: 0.22\n",
            "loss at batch 300: 0.30\n",
            "loss at batch 400: 0.39\n",
            "Epoch 99\n",
            "loss at batch 0: 0.24\n",
            "loss at batch 100: 0.22\n",
            "loss at batch 200: 0.22\n",
            "loss at batch 300: 0.29\n",
            "loss at batch 400: 0.39\n"
          ]
        }
      ],
      "source": [
        "from tensorflow.keras.datasets import mnist\n",
        "(train_images, train_labels), (test_images, test_labels) = mnist.load_data()\n",
        "\n",
        "train_images = train_images.reshape((60000, 28 * 28))\n",
        "train_images = train_images.astype(\"float32\") / 255\n",
        "test_images = test_images.reshape((10000, 28 * 28))\n",
        "test_images = test_images.astype(\"float32\") / 255\n",
        "\n",
        "fit(model, train_images, train_labels, epochs=100, batch_size=128)"
      ]
    },
    {
      "attachments": {},
      "cell_type": "markdown",
      "metadata": {
        "id": "K7eqoxBeEB_y"
      },
      "source": [
        "### 評估模型"
      ]
    },
    {
      "cell_type": "code",
      "execution_count": 76,
      "metadata": {
        "id": "JV42kbSAEB_y",
        "outputId": "6eb2ea11-f186-4e77-d399-4915068fdfe6"
      },
      "outputs": [
        {
          "name": "stdout",
          "output_type": "stream",
          "text": [
            "accuracy: 0.98\n"
          ]
        }
      ],
      "source": [
        "import numpy as np \n",
        "predictions = model(test_images)\n",
        "predictions = predictions.numpy()\n",
        "predicted_labels = np.argmax(predictions, axis=1)\n",
        "matches = predicted_labels == test_labels\n",
        "print(f\"accuracy: {matches.mean():.2f}\")"
      ]
    }
  ],
  "metadata": {
    "colab": {
      "collapsed_sections": [
        "vqOZJ27jEB_d",
        "Ac7a0mToEB_e",
        "Vi5pQGP9EB_h",
        "UzCEjsaXBty0",
        "bQ65rehdBxAN",
        "6zbXqL_-EB_k",
        "MI4h03l6EB_m",
        "rnPmUD6sEB_n",
        "GhId3BLaEB_t",
        "stvm8hhJEB_w",
        "qLJWkfYkEB_x",
        "K7eqoxBeEB_y"
      ],
      "provenance": [],
      "toc_visible": true
    },
    "kernelspec": {
      "display_name": "Python 3.10.8 ('tf2')",
      "language": "python",
      "name": "python3"
    },
    "language_info": {
      "codemirror_mode": {
        "name": "ipython",
        "version": 3
      },
      "file_extension": ".py",
      "mimetype": "text/x-python",
      "name": "python",
      "nbconvert_exporter": "python",
      "pygments_lexer": "ipython3",
      "version": "3.8.13"
    },
    "vscode": {
      "interpreter": {
        "hash": "ef8ab87b9b534aeac9d3b69b806a42a5bb2ddd0e87978ed2609b10fbe8a47363"
      }
    }
  },
  "nbformat": 4,
  "nbformat_minor": 0
}

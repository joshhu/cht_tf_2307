{
  "cells": [
    {
      "cell_type": "markdown",
      "metadata": {
        "id": "B8ton6EgZebW"
      },
      "source": [
        "### 載入套件"
      ]
    },
    {
      "cell_type": "code",
      "execution_count": 1,
      "metadata": {
        "id": "-SuMpj7mZcX5"
      },
      "outputs": [],
      "source": [
        "from tensorflow.keras.datasets import cifar10\n",
        "from tensorflow.python.keras.utils import np_utils\n",
        "import numpy as np\n",
        "from tensorflow.keras import layers\n",
        "from tensorflow.keras import models,optimizers\n",
        "import matplotlib.pyplot as plt\n",
        "import cv2"
      ]
    },
    {
      "cell_type": "markdown",
      "metadata": {
        "id": "pNJB1lYPZuEo"
      },
      "source": [
        "### 載入資料"
      ]
    },
    {
      "cell_type": "code",
      "execution_count": 2,
      "metadata": {
        "colab": {
          "base_uri": "https://localhost:8080/",
          "height": 342
        },
        "id": "V3_MbgadZtmU",
        "outputId": "b917f3a6-e9d6-44ce-d0b3-d661e4cfd56d"
      },
      "outputs": [
        {
          "name": "stdout",
          "output_type": "stream",
          "text": [
            "(50000, 32, 32, 3)\n",
            "(50000, 1)\n",
            "(50000, 10) (10000, 10)\n"
          ]
        },
        {
          "data": {
            "text/plain": [
              "<matplotlib.image.AxesImage at 0x225ea70ebb0>"
            ]
          },
          "execution_count": 2,
          "metadata": {},
          "output_type": "execute_result"
        },
        {
          "data": {
            "image/png": "[encoded data removed]",
            "text/plain": [
              "<Figure size 640x480 with 1 Axes>"
            ]
          },
          "metadata": {},
          "output_type": "display_data"
        }
      ],
      "source": [
        "(x_train,y_train),(x_test,y_test)=cifar10.load_data()\n",
        "\n",
        "print(x_train.shape)\n",
        "print(y_train.shape)\n",
        "\n",
        "y_train=np_utils.to_categorical(y_train)\n",
        "y_test=np_utils.to_categorical(y_test)\n",
        "\n",
        "#x_train=x_train.astype('float32')/255\n",
        "#x_test=x_test.astype('float32')/255\n",
        "\n",
        "print(y_train.shape,y_test.shape)\n",
        "\n",
        "x_train_mean=np.mean(x_train)\n",
        "x_test_mean=np.mean(x_test)\n",
        "\n",
        "#x_train-=x_train_mean\n",
        "#x_test-=x_test_mean\n",
        "\n",
        "plt.imshow(x_train[0])\n",
        "tt=np.zeros((224,224,3))\n",
        "tt=cv2.resize(x_train[0],(224,224),interpolation=cv2.INTER_NEAREST)\n",
        "plt.imshow(tt)"
      ]
    },
    {
      "cell_type": "markdown",
      "metadata": {
        "id": "2xSuhT0AaCdT"
      },
      "source": [
        "### 定義模型"
      ]
    },
    {
      "cell_type": "code",
      "execution_count": 3,
      "metadata": {
        "id": "G5xD34rlaEYt"
      },
      "outputs": [],
      "source": [
        "def Alexnet():\n",
        "    inp=layers.Input(shape=(224,224,3))\n",
        "    \n",
        "    L1=layers.ZeroPadding2D((2,2))(inp)\n",
        "    L1=layers.Conv2D(96,(11,11),strides=(4,4),padding='valid',activation='relu')(L1)#55\n",
        "    L1=layers.MaxPooling2D((3,3),strides=(2,2))(L1)#27\n",
        "    \n",
        "    L2=layers.Conv2D(256,(5,5),activation='relu',padding='same')(L1)#27\n",
        "    L2=layers.MaxPooling2D((3,3),strides=(2,2))(L2)#13\n",
        "    \n",
        "    L3=layers.Conv2D(384,(3,3),activation='relu',padding='same')(L2)#13\n",
        "    \n",
        "    L4=layers.Conv2D(384,(3,3),activation='relu',padding='same')(L3)#13\n",
        "    \n",
        "    L5=layers.Conv2D(256,(3,3),activation='relu',padding='same')(L4)#13\n",
        "    L5=layers.MaxPooling2D((3,3),strides=(2,2))(L5)\n",
        "    \n",
        "    fc=layers.Flatten()(L5)\n",
        "    \n",
        "    fc1=layers.Dense(4096)(fc)\n",
        "    fc1=layers.BatchNormalization()(fc1)\n",
        "    fc1=layers.Activation('relu')(fc1)\n",
        "    fc1=layers.Dropout(0.5)(fc1)\n",
        "    \n",
        "    fc2=layers.Dense(4096)(fc1)\n",
        "    fc2=layers.BatchNormalization()(fc2)\n",
        "    fc2=layers.Activation('relu')(fc2)\n",
        "    fc2=layers.Dropout(0.5)(fc2)\n",
        "    \n",
        "    pred=layers.Dense(10)(fc2)\n",
        "    pred=layers.BatchNormalization()(pred)\n",
        "    pred=layers.Activation('softmax')(pred)\n",
        "    \n",
        "    model=models.Model(inp,pred)\n",
        "    omz=optimizers.Adam(lr=0.01)\n",
        "    model.compile(optimizer=omz,loss='categorical_crossentropy',metrics=['acc'])\n",
        "    model.summary()\n",
        "    return model"
      ]
    },
    {
      "cell_type": "markdown",
      "metadata": {
        "id": "3KJBjjMOaNQz"
      },
      "source": [
        "### 將圖型改變大小"
      ]
    },
    {
      "cell_type": "code",
      "execution_count": 4,
      "metadata": {
        "id": "UjGcPo-baQU4"
      },
      "outputs": [
        {
          "name": "stdout",
          "output_type": "stream",
          "text": [
            "(50000, 224, 224, 3) (10000, 224, 224, 3)\n"
          ]
        }
      ],
      "source": [
        "from tensorflow.keras.preprocessing import image\n",
        "import cv2\n",
        "\n",
        "X_TRAIN=np.zeros((x_train.shape[0],224,224,x_train.shape[3]))\n",
        "X_TEST=np.zeros((x_test.shape[0],224,224,x_test.shape[3]))\n",
        "print(X_TRAIN.shape,X_TEST.shape)\n",
        "for i in range(x_train.shape[0]):\n",
        "    X_TRAIN[i]=cv2.resize(x_train[i],(224,224),interpolation=cv2.INTER_NEAREST)\n",
        "    \n",
        "for i in range(x_test.shape[0]):\n",
        "    X_TEST[i]=cv2.resize(x_test[i],(224,224),interpolation=cv2.INTER_NEAREST)"
      ]
    },
    {
      "cell_type": "markdown",
      "metadata": {
        "id": "pWskuQM-apyM"
      },
      "source": [
        "### 生成資料流"
      ]
    },
    {
      "cell_type": "code",
      "execution_count": 5,
      "metadata": {
        "colab": {
          "base_uri": "https://localhost:8080/",
          "height": 246
        },
        "id": "J6BC1XiZarN8",
        "outputId": "6c3c3a42-c13c-479a-fe96-6923c8e09d95"
      },
      "outputs": [],
      "source": [
        "train_data_gen=image.ImageDataGenerator()\n",
        "train_gen=train_data_gen.flow(X_TRAIN,y_train,batch_size=32)\n",
        "\n",
        "test_data_gen=image.ImageDataGenerator()\n",
        "test_gen=test_data_gen.flow(X_TEST,y_test,batch_size=32)"
      ]
    },
    {
      "cell_type": "markdown",
      "metadata": {
        "id": "CRNe64yfaxR-"
      },
      "source": [
        "### 開始訓練"
      ]
    },
    {
      "cell_type": "code",
      "execution_count": 6,
      "metadata": {
        "id": "qL26WfW6aynE"
      },
      "outputs": [
        {
          "name": "stderr",
          "output_type": "stream",
          "text": [
            "c:\\Users\\joshhu\\anaconda3\\envs\\tf2\\lib\\site-packages\\keras\\optimizers\\optimizer_v2\\adam.py:110: UserWarning: The `lr` argument is deprecated, use `learning_rate` instead.\n",
            "  super(Adam, self).__init__(name, **kwargs)\n"
          ]
        },
        {
          "name": "stdout",
          "output_type": "stream",
          "text": [
            "Model: \"model\"\n",
            "_________________________________________________________________\n",
            " Layer (type)                Output Shape              Param #   \n",
            "=================================================================\n",
            " input_1 (InputLayer)        [(None, 224, 224, 3)]     0         \n",
            "                                                                 \n",
            " zero_padding2d (ZeroPadding  (None, 228, 228, 3)      0         \n",
            " 2D)                                                             \n",
            "                                                                 \n",
            " conv2d (Conv2D)             (None, 55, 55, 96)        34944     \n",
            "                                                                 \n",
            " max_pooling2d (MaxPooling2D  (None, 27, 27, 96)       0         \n",
            " )                                                               \n",
            "                                                                 \n",
            " conv2d_1 (Conv2D)           (None, 27, 27, 256)       614656    \n",
            "                                                                 \n",
            " max_pooling2d_1 (MaxPooling  (None, 13, 13, 256)      0         \n",
            " 2D)                                                             \n",
            "                                                                 \n",
            " conv2d_2 (Conv2D)           (None, 13, 13, 384)       885120    \n",
            "                                                                 \n",
            " conv2d_3 (Conv2D)           (None, 13, 13, 384)       1327488   \n",
            "                                                                 \n",
            " conv2d_4 (Conv2D)           (None, 13, 13, 256)       884992    \n",
            "                                                                 \n",
            " max_pooling2d_2 (MaxPooling  (None, 6, 6, 256)        0         \n",
            " 2D)                                                             \n",
            "                                                                 \n",
            " flatten (Flatten)           (None, 9216)              0         \n",
            "                                                                 \n",
            " dense (Dense)               (None, 4096)              37752832  \n",
            "                                                                 \n",
            " batch_normalization (BatchN  (None, 4096)             16384     \n",
            " ormalization)                                                   \n",
            "                                                                 \n",
            " activation (Activation)     (None, 4096)              0         \n",
            "                                                                 \n",
            " dropout (Dropout)           (None, 4096)              0         \n",
            "                                                                 \n",
            " dense_1 (Dense)             (None, 4096)              16781312  \n",
            "                                                                 \n",
            " batch_normalization_1 (Batc  (None, 4096)             16384     \n",
            " hNormalization)                                                 \n",
            "                                                                 \n",
            " activation_1 (Activation)   (None, 4096)              0         \n",
            "                                                                 \n",
            " dropout_1 (Dropout)         (None, 4096)              0         \n",
            "                                                                 \n",
            " dense_2 (Dense)             (None, 10)                40970     \n",
            "                                                                 \n",
            " batch_normalization_2 (Batc  (None, 10)               40        \n",
            " hNormalization)                                                 \n",
            "                                                                 \n",
            " activation_2 (Activation)   (None, 10)                0         \n",
            "                                                                 \n",
            "=================================================================\n",
            "Total params: 58,355,122\n",
            "Trainable params: 58,338,718\n",
            "Non-trainable params: 16,404\n",
            "_________________________________________________________________\n",
            "Epoch 1/10\n"
          ]
        },
        {
          "name": "stderr",
          "output_type": "stream",
          "text": [
            "C:\\Users\\joshhu\\AppData\\Local\\Temp\\ipykernel_3520\\4093157502.py:2: UserWarning: `Model.fit_generator` is deprecated and will be removed in a future version. Please use `Model.fit`, which supports generators.\n",
            "  model.fit_generator(train_gen,steps_per_epoch=50000/32,epochs=10)\n"
          ]
        },
        {
          "name": "stdout",
          "output_type": "stream",
          "text": [
            "1562/1562 [==============================] - 81s 48ms/step - loss: 1.5945 - acc: 0.4200\n",
            "Epoch 2/10\n",
            "1562/1562 [==============================] - 25s 16ms/step - loss: 1.2200 - acc: 0.5623\n",
            "Epoch 3/10\n",
            "1562/1562 [==============================] - 25s 16ms/step - loss: 1.0453 - acc: 0.6331\n",
            "Epoch 4/10\n",
            "1562/1562 [==============================] - 25s 16ms/step - loss: 0.9131 - acc: 0.6797\n",
            "Epoch 5/10\n",
            "1562/1562 [==============================] - 25s 16ms/step - loss: 0.8155 - acc: 0.7148\n",
            "Epoch 6/10\n",
            "1562/1562 [==============================] - 25s 16ms/step - loss: 0.7225 - acc: 0.7489\n",
            "Epoch 7/10\n",
            "1562/1562 [==============================] - 26s 16ms/step - loss: 0.6377 - acc: 0.7779\n",
            "Epoch 8/10\n",
            "1562/1562 [==============================] - 26s 17ms/step - loss: 0.5616 - acc: 0.8041\n",
            "Epoch 9/10\n",
            "1562/1562 [==============================] - 25s 16ms/step - loss: 0.4950 - acc: 0.8264\n",
            "Epoch 10/10\n",
            "1562/1562 [==============================] - 25s 16ms/step - loss: 0.4364 - acc: 0.8490\n"
          ]
        },
        {
          "data": {
            "text/plain": [
              "<keras.callbacks.History at 0x225de872670>"
            ]
          },
          "execution_count": 6,
          "metadata": {},
          "output_type": "execute_result"
        }
      ],
      "source": [
        "model=Alexnet()\n",
        "model.fit_generator(train_gen,steps_per_epoch=50000/32,epochs=10)"
      ]
    },
    {
      "cell_type": "markdown",
      "metadata": {
        "id": "zwpH1pZRa7WS"
      },
      "source": [
        "### 測試準確度"
      ]
    },
    {
      "cell_type": "code",
      "execution_count": 7,
      "metadata": {
        "id": "ptioyz6Ka8-E"
      },
      "outputs": [
        {
          "name": "stderr",
          "output_type": "stream",
          "text": [
            "C:\\Users\\joshhu\\AppData\\Local\\Temp\\ipykernel_3520\\7556299.py:1: UserWarning: `Model.evaluate_generator` is deprecated and will be removed in a future version. Please use `Model.evaluate`, which supports generators.\n",
            "  model.evaluate_generator(test_gen)\n"
          ]
        },
        {
          "data": {
            "text/plain": [
              "[0.7455065250396729, 0.7621999979019165]"
            ]
          },
          "execution_count": 7,
          "metadata": {},
          "output_type": "execute_result"
        }
      ],
      "source": [
        "model.evaluate_generator(test_gen)"
      ]
    }
  ],
  "metadata": {
    "accelerator": "GPU",
    "colab": {
      "provenance": []
    },
    "gpuClass": "standard",
    "kernelspec": {
      "display_name": "Python 3.10.8 ('tf2')",
      "language": "python",
      "name": "python3"
    },
    "language_info": {
      "codemirror_mode": {
        "name": "ipython",
        "version": 3
      },
      "file_extension": ".py",
      "mimetype": "text/x-python",
      "name": "python",
      "nbconvert_exporter": "python",
      "pygments_lexer": "ipython3",
      "version": "3.8.15"
    },
    "vscode": {
      "interpreter": {
        "hash": "ef8ab87b9b534aeac9d3b69b806a42a5bb2ddd0e87978ed2609b10fbe8a47363"
      }
    }
  },
  "nbformat": 4,
  "nbformat_minor": 0
}

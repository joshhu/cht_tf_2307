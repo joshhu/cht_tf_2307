{
 "cells": [
  {
   "cell_type": "markdown",
   "metadata": {},
   "source": [
    "### 類別及物件"
   ]
  },
  {
   "cell_type": "code",
   "execution_count": 2,
   "metadata": {},
   "outputs": [],
   "source": [
    "class Circle:\n",
    "    cx = 0\n",
    "    cy = 0\n",
    "    radius = 0\n",
    "\n",
    "    def setColor(self, color):\n",
    "        self.color = color\n",
    "class Ball(Circle):\n",
    "    cz = 0\n",
    "    \n",
    "circle = Circle()\n",
    "ball = Ball()"
   ]
  },
  {
   "cell_type": "code",
   "execution_count": 5,
   "metadata": {},
   "outputs": [
    {
     "name": "stdout",
     "output_type": "stream",
     "text": [
      "10\n",
      "20\n",
      "30\n"
     ]
    }
   ],
   "source": [
    "class Circle:\n",
    "    \n",
    "    def __init__(self, cx, cy, radius):\n",
    "        self.cx = cx\n",
    "        self.cy = cy\n",
    "        self.radius = radius\n",
    "\n",
    "    def setColor(self, color):\n",
    "        self.color = color\n",
    "        \n",
    "circle = Circle(10, 20, 30) \n",
    "print(circle.cx)\n",
    "print(circle.cy)\n",
    "print(circle.radius)"
   ]
  },
  {
   "cell_type": "code",
   "execution_count": 7,
   "metadata": {},
   "outputs": [],
   "source": [
    "class Foo:\n",
    "    def __init__(self, a, b, c):\n",
    "        self.a = a\n",
    "        self.b = b\n",
    "        self.c = c\n",
    "x = Foo(1, 2, 3) # __init__"
   ]
  },
  {
   "cell_type": "code",
   "execution_count": 8,
   "metadata": {},
   "outputs": [],
   "source": [
    "class Foo:\n",
    "    def __call__(self, a, b, c):\n",
    "        self.a = a\n",
    "        self.b = b\n",
    "        self.c = c\n",
    "\n",
    "x = Foo()\n",
    "x(1, 2, 3) # __call__"
   ]
  },
  {
   "cell_type": "markdown",
   "metadata": {},
   "source": [
    "### Iterator"
   ]
  },
  {
   "cell_type": "code",
   "execution_count": 10,
   "metadata": {},
   "outputs": [
    {
     "ename": "TypeError",
     "evalue": "'str' object is not an iterator",
     "output_type": "error",
     "traceback": [
      "\u001b[1;31m---------------------------------------------------------------------------\u001b[0m",
      "\u001b[1;31mTypeError\u001b[0m                                 Traceback (most recent call last)",
      "Cell \u001b[1;32mIn [10], line 2\u001b[0m\n\u001b[0;32m      1\u001b[0m s \u001b[39m=\u001b[39m \u001b[39m\"\u001b[39m\u001b[39mABC\u001b[39m\u001b[39m\"\u001b[39m\n\u001b[1;32m----> 2\u001b[0m \u001b[39mnext\u001b[39;49m(s)\n",
      "\u001b[1;31mTypeError\u001b[0m: 'str' object is not an iterator"
     ]
    }
   ],
   "source": [
    "s = \"ABC\"\n",
    "next(s)"
   ]
  },
  {
   "cell_type": "code",
   "execution_count": 12,
   "metadata": {},
   "outputs": [
    {
     "name": "stdout",
     "output_type": "stream",
     "text": [
      "Berlin\n",
      "Vienna\n",
      "Zurich\n"
     ]
    }
   ],
   "source": [
    "cities = [\"Berlin\", \"Vienna\", \"Zurich\"]\n",
    " \n",
    "# initialize the object\n",
    "iterator_obj = iter(cities)\n",
    " \n",
    "print(next(iterator_obj))\n",
    "print(next(iterator_obj))\n",
    "print(next(iterator_obj))"
   ]
  },
  {
   "cell_type": "markdown",
   "metadata": {},
   "source": [
    "### Decorator"
   ]
  },
  {
   "cell_type": "code",
   "execution_count": 59,
   "metadata": {},
   "outputs": [
    {
     "name": "stdout",
     "output_type": "stream",
     "text": [
      "Now use function 'dog_bark'\n",
      "Bark !!!\n",
      "Now use function 'cat_miaow'\n",
      "Miaow ~~~\n"
     ]
    }
   ],
   "source": [
    "def print_func_name(func):\n",
    "    def wrap():\n",
    "        print(\"Now use function '{}'\".format(func.__name__))\n",
    "        func()\n",
    "    return wrap\n",
    "\n",
    "@print_func_name\n",
    "def dog_bark():\n",
    "    print(\"Bark !!!\")\n",
    "\n",
    "@print_func_name\n",
    "def cat_miaow():\n",
    "    print(\"Miaow ~~~\")\n",
    "\n",
    "dog_bark()\n",
    "cat_miaow()"
   ]
  },
  {
   "cell_type": "code",
   "execution_count": 50,
   "metadata": {},
   "outputs": [
    {
     "name": "stdout",
     "output_type": "stream",
     "text": [
      "Now use function 'dog_bark'\n",
      "Bark !!!\n",
      "<class 'NoneType'>\n",
      "Now use function 'cat_miaow'\n",
      "Miaow ~~~\n",
      "<class 'NoneType'>\n"
     ]
    }
   ],
   "source": [
    "def dog_bark():\n",
    "    print(\"Bark !!!\")\n",
    "\n",
    "\n",
    "def cat_miaow():\n",
    "    print(\"Miaow ~~~\")\n",
    "    \n",
    "def print_func_name(func):\n",
    "    print(\"Now use function '{}'\".format(func.__name__))\n",
    "    func()\n",
    "\n",
    "print(type(print_func_name(dog_bark)))\n",
    "print(type(print_func_name(cat_miaow)))"
   ]
  },
  {
   "cell_type": "code",
   "execution_count": 62,
   "metadata": {},
   "outputs": [
    {
     "name": "stdout",
     "output_type": "stream",
     "text": [
      "Now use function 'warp_2'\n",
      "Now the Unix time is 1668959003\n",
      "Bark !!!\n",
      "Now the Unix time is 1668959003\n",
      "Now use function 'cat_miaow'\n",
      "Miaow !!!\n"
     ]
    }
   ],
   "source": [
    "def print_func_name(func):\n",
    "    def warp_1():\n",
    "        print(\"Now use function '{}'\".format(func.__name__))\n",
    "        func()\n",
    "    return warp_1\n",
    "\n",
    "\n",
    "def print_time(func):\n",
    "    import time\n",
    "    def warp_2():\n",
    "        print(\"Now the Unix time is {}\".format(int(time.time())))\n",
    "        func()\n",
    "    return warp_2\n",
    "\n",
    "\n",
    "@print_func_name\n",
    "@print_time\n",
    "def dog_bark():\n",
    "    print(\"Bark !!!\")\n",
    "\n",
    "@print_time\n",
    "@print_func_name\n",
    "def cat_miaow():\n",
    "    print(\"Miaow !!!\")\n",
    "\n",
    "dog_bark()\n",
    "cat_miaow()"
   ]
  },
  {
   "cell_type": "code",
   "execution_count": 1,
   "metadata": {},
   "outputs": [
    {
     "name": "stdout",
     "output_type": "stream",
     "text": [
      "Now use function 'dog_bark'\n",
      "Now Unix time is 1668959290.\n",
      "Bark !!!\n"
     ]
    }
   ],
   "source": [
    "# 帶參數\n",
    "import time\n",
    "\n",
    "def print_func_name(time):\n",
    "    def decorator(func):\n",
    "        def wrap():\n",
    "            print(\"Now use function '{}'\".format(func.__name__))\n",
    "            print(\"Now Unix time is {}.\".format(int(time)))\n",
    "            func()\n",
    "        return wrap\n",
    "    return decorator\n",
    "\n",
    "\n",
    "@print_func_name(time=(time.time()))\n",
    "def dog_bark():\n",
    "    print(\"Bark !!!\")\n",
    "\n",
    "if __name__ == \"__main__\":\n",
    "    dog_bark()\n",
    "    # > Now use function 'dog_bark'\n",
    "    # > Now Unix time is 1639491313.\n",
    "    # > Bark !!!"
   ]
  },
  {
   "cell_type": "code",
   "execution_count": 2,
   "metadata": {},
   "outputs": [
    {
     "name": "stdout",
     "output_type": "stream",
     "text": [
      "10\n",
      "Bark !!!\n",
      "I can pee very hard......\n"
     ]
    }
   ],
   "source": [
    "# 可用於物件\n",
    "class Dog:\n",
    "    def __init__(self, func):\n",
    "        self.age = 10\n",
    "        self.talent = func\n",
    "\n",
    "    def bark(self):\n",
    "        print(\"Bark !!!\")\n",
    "\n",
    "@Dog\n",
    "def dog_can_pee():\n",
    "    print(\"I can pee very hard......\")\n",
    "\n",
    "if __name__ == \"__main__\":\n",
    "    dog = dog_can_pee\n",
    "\n",
    "    print(dog.age)\n",
    "    # > 10\n",
    "\n",
    "    dog.bark()\n",
    "    # > Bark !!!\n",
    "\n",
    "    dog.talent()\n",
    "    # > I can pee very hard....."
   ]
  },
  {
   "cell_type": "code",
   "execution_count": 3,
   "metadata": {},
   "outputs": [
    {
     "name": "stdout",
     "output_type": "stream",
     "text": [
      "I can pee very hard......\n",
      "I can jump uselessly QQQ\n",
      "I can poo like a super pooping machine!\n"
     ]
    }
   ],
   "source": [
    "# 更優雅的寫法\n",
    "class Dog:\n",
    "    def __init__(self, func):\n",
    "        self.talent = func\n",
    "\n",
    "    def bark(self):\n",
    "        print(\"Bark !!!\")\n",
    "\n",
    "\n",
    "@Dog\n",
    "def dog_can_pee():\n",
    "    print(\"I can pee very hard......\")\n",
    "\n",
    "\n",
    "@Dog\n",
    "def dog_can_jump():\n",
    "    print(\"I can jump uselessly QQQ\")\n",
    "\n",
    "\n",
    "@Dog\n",
    "def dog_can_poo():\n",
    "    print(\"I can poo like a super pooping machine!\")\n",
    "\n",
    "\n",
    "\n",
    "if __name__ == \"__main__\":\n",
    "    dog_1 = dog_can_pee\n",
    "    dog_1.talent()\n",
    "    # > I can pee very hard......\n",
    "\n",
    "    dog_2 = dog_can_jump\n",
    "    dog_2.talent()\n",
    "    # > I can jump uselessly QQQ\n",
    "\n",
    "    dog_3 = dog_can_poo\n",
    "    dog_3.talent()\n",
    "    # > I can poo like a super pooping machine!"
   ]
  }
 ],
 "metadata": {
  "kernelspec": {
   "display_name": "Python 3.10.8 ('tf2')",
   "language": "python",
   "name": "python3"
  },
  "language_info": {
   "codemirror_mode": {
    "name": "ipython",
    "version": 3
   },
   "file_extension": ".py",
   "mimetype": "text/x-python",
   "name": "python",
   "nbconvert_exporter": "python",
   "pygments_lexer": "ipython3",
   "version": "3.10.8"
  },
  "orig_nbformat": 4,
  "vscode": {
   "interpreter": {
    "hash": "ef8ab87b9b534aeac9d3b69b806a42a5bb2ddd0e87978ed2609b10fbe8a47363"
   }
  }
 },
 "nbformat": 4,
 "nbformat_minor": 2
}
